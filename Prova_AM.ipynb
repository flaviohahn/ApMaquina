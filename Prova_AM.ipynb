{
  "nbformat": 4,
  "nbformat_minor": 0,
  "metadata": {
    "colab": {
      "name": "Prova_AM.ipynb",
      "provenance": [],
      "collapsed_sections": [],
      "authorship_tag": "ABX9TyN05rleXHEG9GrDGjbnHROF",
      "include_colab_link": true
    },
    "kernelspec": {
      "name": "python3",
      "display_name": "Python 3"
    }
  },
  "cells": [
    {
      "cell_type": "markdown",
      "metadata": {
        "id": "view-in-github",
        "colab_type": "text"
      },
      "source": [
        "<a href=\"https://colab.research.google.com/github/flaviohahn/ApMaquina/blob/master/Prova_AM.ipynb\" target=\"_parent\"><img src=\"https://colab.research.google.com/assets/colab-badge.svg\" alt=\"Open In Colab\"/></a>"
      ]
    },
    {
      "cell_type": "markdown",
      "metadata": {
        "id": "XS5KeEJg6Gib",
        "colab_type": "text"
      },
      "source": [
        "**UNIVERSIDADE FEDERAL DE ALAGOAS**\n",
        "\n",
        "**INSTITUTO DE COMPUTAÇÃO**\n",
        "\n",
        "**ALUNO:** FLÁVIO OSCAR HAHN\n",
        "\n",
        "**PROFS:** EVANDRO COSTA E XU YANG\n",
        "\n",
        "**CURSO:** APRENDIZAGEM DE MAQUINA\n"
      ]
    },
    {
      "cell_type": "markdown",
      "metadata": {
        "id": "2X3TwJ6T645t",
        "colab_type": "text"
      },
      "source": [
        "**1) Dado os dados de Balança.csv, calcule a matriz de covariança e faça um scatter plot. Baseado na matriz e scatter plot, discuta a independência dos atributos.**"
      ]
    },
    {
      "cell_type": "code",
      "metadata": {
        "id": "RUev0mQo5_E-",
        "colab_type": "code",
        "colab": {
          "base_uri": "https://localhost:8080/",
          "height": 204
        },
        "outputId": "6d264d2e-bfbe-4fcc-9437-f3f397021dc4"
      },
      "source": [
        "#Realizando as importações\n",
        "import pandas as pd\n",
        "import numpy as np\n",
        "import seaborn as sn\n",
        "\n",
        "import matplotlib.pyplot as plt\n",
        "#Criando o dataset:\n",
        "urlBalanca = 'https://raw.githubusercontent.com/flaviohahn/ApMaquina/master/balance_scale_dataset.csv'\n",
        "dados = pd.read_csv(urlBalanca)\n",
        "dados.head(5)\n"
      ],
      "execution_count": null,
      "outputs": [
        {
          "output_type": "execute_result",
          "data": {
            "text/html": [
              "<div>\n",
              "<style scoped>\n",
              "    .dataframe tbody tr th:only-of-type {\n",
              "        vertical-align: middle;\n",
              "    }\n",
              "\n",
              "    .dataframe tbody tr th {\n",
              "        vertical-align: top;\n",
              "    }\n",
              "\n",
              "    .dataframe thead th {\n",
              "        text-align: right;\n",
              "    }\n",
              "</style>\n",
              "<table border=\"1\" class=\"dataframe\">\n",
              "  <thead>\n",
              "    <tr style=\"text-align: right;\">\n",
              "      <th></th>\n",
              "      <th>left_weight</th>\n",
              "      <th>left_distance</th>\n",
              "      <th>right_weight</th>\n",
              "      <th>right_distance</th>\n",
              "      <th>balance</th>\n",
              "    </tr>\n",
              "  </thead>\n",
              "  <tbody>\n",
              "    <tr>\n",
              "      <th>0</th>\n",
              "      <td>1</td>\n",
              "      <td>1</td>\n",
              "      <td>1</td>\n",
              "      <td>1</td>\n",
              "      <td>B</td>\n",
              "    </tr>\n",
              "    <tr>\n",
              "      <th>1</th>\n",
              "      <td>1</td>\n",
              "      <td>1</td>\n",
              "      <td>1</td>\n",
              "      <td>2</td>\n",
              "      <td>R</td>\n",
              "    </tr>\n",
              "    <tr>\n",
              "      <th>2</th>\n",
              "      <td>1</td>\n",
              "      <td>1</td>\n",
              "      <td>1</td>\n",
              "      <td>3</td>\n",
              "      <td>R</td>\n",
              "    </tr>\n",
              "    <tr>\n",
              "      <th>3</th>\n",
              "      <td>1</td>\n",
              "      <td>1</td>\n",
              "      <td>1</td>\n",
              "      <td>4</td>\n",
              "      <td>R</td>\n",
              "    </tr>\n",
              "    <tr>\n",
              "      <th>4</th>\n",
              "      <td>1</td>\n",
              "      <td>1</td>\n",
              "      <td>1</td>\n",
              "      <td>5</td>\n",
              "      <td>R</td>\n",
              "    </tr>\n",
              "  </tbody>\n",
              "</table>\n",
              "</div>"
            ],
            "text/plain": [
              "   left_weight  left_distance  right_weight  right_distance balance\n",
              "0            1              1             1               1       B\n",
              "1            1              1             1               2       R\n",
              "2            1              1             1               3       R\n",
              "3            1              1             1               4       R\n",
              "4            1              1             1               5       R"
            ]
          },
          "metadata": {
            "tags": []
          },
          "execution_count": 29
        }
      ]
    },
    {
      "cell_type": "code",
      "metadata": {
        "id": "PQ43ZZ0Wviu1",
        "colab_type": "code",
        "colab": {
          "base_uri": "https://localhost:8080/",
          "height": 85
        },
        "outputId": "9f708913-7c52-450e-f7de-0d4b74098d6b"
      },
      "source": [
        "#Primeiro vamos calcular a matriz de covaiância usando a Numpy\n",
        "X = dados.iloc[:,:-1].values\n",
        "covariance = np.cov(X, rowvar=False)\n",
        "display(covariance)"
      ],
      "execution_count": null,
      "outputs": [
        {
          "output_type": "display_data",
          "data": {
            "text/plain": [
              "array([[2.00320513, 0.        , 0.        , 0.        ],\n",
              "       [0.        , 2.00320513, 0.        , 0.        ],\n",
              "       [0.        , 0.        , 2.00320513, 0.        ],\n",
              "       [0.        , 0.        , 0.        , 2.00320513]])"
            ]
          },
          "metadata": {
            "tags": []
          }
        }
      ]
    },
    {
      "cell_type": "code",
      "metadata": {
        "id": "HMuSDOYqiDU3",
        "colab_type": "code",
        "colab": {
          "base_uri": "https://localhost:8080/",
          "height": 173
        },
        "outputId": "533ceef3-3333-4430-f708-7ebe40404a7f"
      },
      "source": [
        "#Agora vamos calcular a matriz de covaiância usando a Pandas\n",
        "df_covariance = dados.cov()\n",
        "display(df_covariance)"
      ],
      "execution_count": null,
      "outputs": [
        {
          "output_type": "display_data",
          "data": {
            "text/html": [
              "<div>\n",
              "<style scoped>\n",
              "    .dataframe tbody tr th:only-of-type {\n",
              "        vertical-align: middle;\n",
              "    }\n",
              "\n",
              "    .dataframe tbody tr th {\n",
              "        vertical-align: top;\n",
              "    }\n",
              "\n",
              "    .dataframe thead th {\n",
              "        text-align: right;\n",
              "    }\n",
              "</style>\n",
              "<table border=\"1\" class=\"dataframe\">\n",
              "  <thead>\n",
              "    <tr style=\"text-align: right;\">\n",
              "      <th></th>\n",
              "      <th>left_weight</th>\n",
              "      <th>left_distance</th>\n",
              "      <th>right_weight</th>\n",
              "      <th>right_distance</th>\n",
              "    </tr>\n",
              "  </thead>\n",
              "  <tbody>\n",
              "    <tr>\n",
              "      <th>left_weight</th>\n",
              "      <td>2.003205</td>\n",
              "      <td>0.000000</td>\n",
              "      <td>0.000000</td>\n",
              "      <td>0.000000</td>\n",
              "    </tr>\n",
              "    <tr>\n",
              "      <th>left_distance</th>\n",
              "      <td>0.000000</td>\n",
              "      <td>2.003205</td>\n",
              "      <td>0.000000</td>\n",
              "      <td>0.000000</td>\n",
              "    </tr>\n",
              "    <tr>\n",
              "      <th>right_weight</th>\n",
              "      <td>0.000000</td>\n",
              "      <td>0.000000</td>\n",
              "      <td>2.003205</td>\n",
              "      <td>0.000000</td>\n",
              "    </tr>\n",
              "    <tr>\n",
              "      <th>right_distance</th>\n",
              "      <td>0.000000</td>\n",
              "      <td>0.000000</td>\n",
              "      <td>0.000000</td>\n",
              "      <td>2.003205</td>\n",
              "    </tr>\n",
              "  </tbody>\n",
              "</table>\n",
              "</div>"
            ],
            "text/plain": [
              "                left_weight  left_distance  right_weight  right_distance\n",
              "left_weight        2.003205       0.000000      0.000000        0.000000\n",
              "left_distance      0.000000       2.003205      0.000000        0.000000\n",
              "right_weight       0.000000       0.000000      2.003205        0.000000\n",
              "right_distance     0.000000       0.000000      0.000000        2.003205"
            ]
          },
          "metadata": {
            "tags": []
          }
        }
      ]
    },
    {
      "cell_type": "code",
      "metadata": {
        "id": "lHPKhxo2imyI",
        "colab_type": "code",
        "colab": {
          "base_uri": "https://localhost:8080/",
          "height": 385
        },
        "outputId": "85091984-f725-48c8-9fd5-a92ad506651a"
      },
      "source": [
        "#scatter plot\n",
        "sn.lmplot(x='left_distance', y='right_distance', data=dados, \n",
        "           fit_reg=True, # No regression line\n",
        "           hue='balance')   # Color by evolution stage\n",
        "\n",
        "# cria um título para o gráfico\n",
        "plt.title('Distância a Esquerda vs distância a direita.')\n",
        "\n",
        "# mostra o gráfico\n",
        "plt.show()"
      ],
      "execution_count": null,
      "outputs": [
        {
          "output_type": "display_data",
          "data": {
            "image/png": "[encoded data removed]",
            "text/plain": [
              "<Figure size 407.375x360 with 1 Axes>"
            ]
          },
          "metadata": {
            "tags": [],
            "needs_background": "light"
          }
        }
      ]
    },
    {
      "cell_type": "markdown",
      "metadata": {
        "id": "u4CIn711tzG3",
        "colab_type": "text"
      },
      "source": [
        "Os conjuntos se móstram com distânciamento uniforme e linearmente independente."
      ]
    },
    {
      "cell_type": "markdown",
      "metadata": {
        "id": "MSLMZF_D7ElL",
        "colab_type": "text"
      },
      "source": [
        "**2) Considere uma SVM cujos hiperplanos canônicos sejão H1 : w * x + b = 1 e H2 : w * x + b = -1. Demonstre que a maximização da margem de separação dos objetos em relação a w * x + b = 0 pode ser obtida pela minimização de |w|.**"
      ]
    },
    {
      "cell_type": "markdown",
      "metadata": {
        "id": "1579rxEiKKDP",
        "colab_type": "text"
      },
      "source": [
        "![image.png](data:image/png;base64,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)"
      ]
    },
    {
      "cell_type": "markdown",
      "metadata": {
        "id": "4QPjP03cKY4U",
        "colab_type": "text"
      },
      "source": [
        "Seja x1 um ponto no hiperplano H1:w * x + b = 1 e x2 um ponto no hiperplano\n",
        "H2: w * x + b = −1. Projetando x1 − x2 na direção de w,\n",
        "perpendicular ao hiperplano separador w · x + b = 0, é possível obter a distância entre os hiperplanos H1 e H2 [6]. Essa projeção é apresentada na Equação  (x1 − x2) (w/||w|| * (x1-x2)/||(x1 - x2)||).\n",
        "\n",
        " A diferença entre a equação w * x + b = 1 e w * x + b = −1 forenece a equação w * x + b = 2. \n",
        "\n",
        " Subistituindo esse resultado na equação temos:\n",
        " 2(x1 - x2)/||x|| ||x1 - x2|| = 2/||x||\n",
        "\n",
        " Essa é a distância d, ilustrada na Figura, entre os hiperplanos H1 e H2, paralelos ao hiperplano separador. Como w e b foram escalados de forma a não haver exemplos entre H1 e H2, 1/||w|| é a distância mínima entre o hiperplano separador e os dados de treinamento. Essa distância é definida como a margem geométrica do classificador linear.\n",
        " \n",
        " A partir dassas considerações, verifica-se que a maximização da margem de separação dos dados em relação a w · x + b = 0 pode ser obtida pela minimização de ||w||."
      ]
    },
    {
      "cell_type": "markdown",
      "metadata": {
        "id": "jJFV3eIT7QjC",
        "colab_type": "text"
      },
      "source": [
        "**3) Dado os dados de Iris.csv:**"
      ]
    },
    {
      "cell_type": "code",
      "metadata": {
        "id": "b2KFu3Kz7lGh",
        "colab_type": "code",
        "colab": {
          "base_uri": "https://localhost:8080/",
          "height": 258
        },
        "outputId": "c2e89cb5-bc6b-4945-fe0a-ca3604a064b0"
      },
      "source": [
        "#Realizando as importações\n",
        "import pandas as pd\n",
        "import numpy as np\n",
        "import seaborn as sn\n",
        "import matplotlib.pyplot as plt\n",
        "\n",
        "#Criando o dataset:\n",
        "urlIris = 'https://raw.githubusercontent.com/flaviohahn/ApMaquina/master/iris_dataset.csv'\n",
        "ds_iris = pd.read_csv(urlIris)\n",
        "ds_iris.head(5)"
      ],
      "execution_count": null,
      "outputs": [
        {
          "output_type": "stream",
          "text": [
            "/usr/local/lib/python3.6/dist-packages/statsmodels/tools/_testing.py:19: FutureWarning: pandas.util.testing is deprecated. Use the functions in the public API at pandas.testing instead.\n",
            "  import pandas.util.testing as tm\n"
          ],
          "name": "stderr"
        },
        {
          "output_type": "execute_result",
          "data": {
            "text/html": [
              "<div>\n",
              "<style scoped>\n",
              "    .dataframe tbody tr th:only-of-type {\n",
              "        vertical-align: middle;\n",
              "    }\n",
              "\n",
              "    .dataframe tbody tr th {\n",
              "        vertical-align: top;\n",
              "    }\n",
              "\n",
              "    .dataframe thead th {\n",
              "        text-align: right;\n",
              "    }\n",
              "</style>\n",
              "<table border=\"1\" class=\"dataframe\">\n",
              "  <thead>\n",
              "    <tr style=\"text-align: right;\">\n",
              "      <th></th>\n",
              "      <th>sepal_length</th>\n",
              "      <th>sepal_width</th>\n",
              "      <th>petal_length</th>\n",
              "      <th>petal_width</th>\n",
              "      <th>flower</th>\n",
              "    </tr>\n",
              "  </thead>\n",
              "  <tbody>\n",
              "    <tr>\n",
              "      <th>0</th>\n",
              "      <td>5.1</td>\n",
              "      <td>3.5</td>\n",
              "      <td>1.4</td>\n",
              "      <td>0.2</td>\n",
              "      <td>Iris-setosa</td>\n",
              "    </tr>\n",
              "    <tr>\n",
              "      <th>1</th>\n",
              "      <td>4.9</td>\n",
              "      <td>3.0</td>\n",
              "      <td>1.4</td>\n",
              "      <td>0.2</td>\n",
              "      <td>Iris-setosa</td>\n",
              "    </tr>\n",
              "    <tr>\n",
              "      <th>2</th>\n",
              "      <td>4.7</td>\n",
              "      <td>3.2</td>\n",
              "      <td>1.3</td>\n",
              "      <td>0.2</td>\n",
              "      <td>Iris-setosa</td>\n",
              "    </tr>\n",
              "    <tr>\n",
              "      <th>3</th>\n",
              "      <td>4.6</td>\n",
              "      <td>3.1</td>\n",
              "      <td>1.5</td>\n",
              "      <td>0.2</td>\n",
              "      <td>Iris-setosa</td>\n",
              "    </tr>\n",
              "    <tr>\n",
              "      <th>4</th>\n",
              "      <td>5.0</td>\n",
              "      <td>3.6</td>\n",
              "      <td>1.4</td>\n",
              "      <td>0.2</td>\n",
              "      <td>Iris-setosa</td>\n",
              "    </tr>\n",
              "  </tbody>\n",
              "</table>\n",
              "</div>"
            ],
            "text/plain": [
              "   sepal_length  sepal_width  petal_length  petal_width       flower\n",
              "0           5.1          3.5           1.4          0.2  Iris-setosa\n",
              "1           4.9          3.0           1.4          0.2  Iris-setosa\n",
              "2           4.7          3.2           1.3          0.2  Iris-setosa\n",
              "3           4.6          3.1           1.5          0.2  Iris-setosa\n",
              "4           5.0          3.6           1.4          0.2  Iris-setosa"
            ]
          },
          "metadata": {
            "tags": []
          },
          "execution_count": 1
        }
      ]
    },
    {
      "cell_type": "code",
      "metadata": {
        "id": "b9cZsG4X1-zm",
        "colab_type": "code",
        "colab": {
          "base_uri": "https://localhost:8080/",
          "height": 85
        },
        "outputId": "a1c2f90c-756a-4426-ccb5-e69e81d57ae1"
      },
      "source": [
        "ds_iris['flower'].value_counts()"
      ],
      "execution_count": null,
      "outputs": [
        {
          "output_type": "execute_result",
          "data": {
            "text/plain": [
              "Iris-virginica     50\n",
              "Iris-versicolor    50\n",
              "Iris-setosa        50\n",
              "Name: flower, dtype: int64"
            ]
          },
          "metadata": {
            "tags": []
          },
          "execution_count": 2
        }
      ]
    },
    {
      "cell_type": "markdown",
      "metadata": {
        "id": "54DIXWGS7en6",
        "colab_type": "text"
      },
      "source": [
        "(a) Calcule a probabilidade a priori para cada classe.\n"
      ]
    },
    {
      "cell_type": "code",
      "metadata": {
        "id": "KZhv2HtW7lrx",
        "colab_type": "code",
        "colab": {
          "base_uri": "https://localhost:8080/",
          "height": 122
        },
        "outputId": "40313e85-ded7-4737-8b9e-72181bdb3aa1"
      },
      "source": [
        "probabilidade_setosa = 50/150\n",
        "display('Probabilidade Setosa:' ,probabilidade_setosa)\n",
        "probabilidade_versicolor = 50/150\n",
        "display('Probabilidade Setosa:' ,probabilidade_versicolor)\n",
        "probabilidade_virginica = 50/150\n",
        "display('Probabilidade Setosa:' ,probabilidade_virginica)"
      ],
      "execution_count": null,
      "outputs": [
        {
          "output_type": "display_data",
          "data": {
            "application/vnd.google.colaboratory.intrinsic+json": {
              "type": "string"
            },
            "text/plain": [
              "'Probabilidade Setosa:'"
            ]
          },
          "metadata": {
            "tags": []
          }
        },
        {
          "output_type": "display_data",
          "data": {
            "text/plain": [
              "0.3333333333333333"
            ]
          },
          "metadata": {
            "tags": []
          }
        },
        {
          "output_type": "display_data",
          "data": {
            "application/vnd.google.colaboratory.intrinsic+json": {
              "type": "string"
            },
            "text/plain": [
              "'Probabilidade Setosa:'"
            ]
          },
          "metadata": {
            "tags": []
          }
        },
        {
          "output_type": "display_data",
          "data": {
            "text/plain": [
              "0.3333333333333333"
            ]
          },
          "metadata": {
            "tags": []
          }
        },
        {
          "output_type": "display_data",
          "data": {
            "application/vnd.google.colaboratory.intrinsic+json": {
              "type": "string"
            },
            "text/plain": [
              "'Probabilidade Setosa:'"
            ]
          },
          "metadata": {
            "tags": []
          }
        },
        {
          "output_type": "display_data",
          "data": {
            "text/plain": [
              "0.3333333333333333"
            ]
          },
          "metadata": {
            "tags": []
          }
        }
      ]
    },
    {
      "cell_type": "markdown",
      "metadata": {
        "id": "zOLxTjRZ7giR",
        "colab_type": "text"
      },
      "source": [
        "(b) Para um objeto x = (4.8, 3.1, 1.5, 0.2), calcular a verossimilhança.\n"
      ]
    },
    {
      "cell_type": "code",
      "metadata": {
        "id": "HtpMmSwnXkiQ",
        "colab_type": "code",
        "colab": {}
      },
      "source": [
        "\n"
      ],
      "execution_count": null,
      "outputs": []
    },
    {
      "cell_type": "markdown",
      "metadata": {
        "id": "S9Dxc-Dq7h1D",
        "colab_type": "text"
      },
      "source": [
        "(c) Pelo Naive Bayes, qual classe o novo dado deve estar?"
      ]
    },
    {
      "cell_type": "code",
      "metadata": {
        "id": "xslXV_fV7m1P",
        "colab_type": "code",
        "colab": {
          "base_uri": "https://localhost:8080/",
          "height": 119
        },
        "outputId": "6ef089cf-7a94-419f-a94a-a78c56c7e3c9"
      },
      "source": [
        "import numpy as np # linear algebra\n",
        "import pandas as pd # data processing, CSV file I/O (e.g. pd.read_csv)\n",
        "from sklearn.naive_bayes import GaussianNB\n",
        "from sklearn import model_selection\n",
        "from sklearn.model_selection import train_test_split\n",
        "from sklearn.metrics import classification_report\n",
        "from sklearn.metrics import confusion_matrix\n",
        "from sklearn.metrics import accuracy_score\n",
        "from sklearn.feature_extraction.text import CountVectorizer\n",
        "from sklearn.feature_extraction.text import TfidfTransformer\n",
        "\n",
        "ds_iris.flower.replace(['Iris-setosa', 'Iris-versicolor', 'Iris-virginica'], [1, 2, 3], inplace=True)\n",
        "\n",
        "#Initialize Gaussian Naive Bayes\n",
        "clf = GaussianNB()\n",
        "\n",
        "# Split-out validation dataset\n",
        "array = ds_iris.values\n",
        "\n",
        "X = array[:,0:4]\n",
        "Y = array[:,4]\n",
        "\n",
        "# One-third of data as a part of test set\n",
        "validation_size = 0.33\n",
        "\n",
        "seed = 7\n",
        "X_train, X_validation, Y_train, Y_validation = model_selection.train_test_split(X, Y, test_size=validation_size, random_state=seed)\n",
        "\n",
        "\n",
        "#Fitting the training set\n",
        "clf.fit(X_train, Y_train) \n",
        "\n",
        "#Predicting for the Test Set\n",
        "pred_clf = clf.predict(X_validation)\n",
        "\n",
        "count_vect = CountVectorizer()\n",
        "\n",
        "predictionData = np.array([[4.8, 3.1, 1.5, 0.2]])\n",
        "resultado =clf.predict(predictionData)\n",
        "\n",
        "print(\" --------------------\")\n",
        "print(\"1: Iris-setosa\")\n",
        "print(\"2: Iris-versicolor\" )\n",
        "print(\"3: Iris-virginica \\n\")\n",
        "\n",
        "print(\"Resultado da Predição: \",resultado)"
      ],
      "execution_count": null,
      "outputs": [
        {
          "output_type": "stream",
          "text": [
            " --------------------\n",
            "1: Iris-setosa\n",
            "2: Iris-versicolor\n",
            "3: Iris-virginica \n",
            "\n",
            "Resultado da Predição:  [1.]\n"
          ],
          "name": "stdout"
        }
      ]
    },
    {
      "cell_type": "markdown",
      "metadata": {
        "id": "mrAz9Kn07osl",
        "colab_type": "text"
      },
      "source": [
        "**4) Para os dados de Balança, considere as questões seguintes:**"
      ]
    },
    {
      "cell_type": "code",
      "metadata": {
        "id": "5SozJ_v1vNNl",
        "colab_type": "code",
        "colab": {
          "base_uri": "https://localhost:8080/",
          "height": 204
        },
        "outputId": "636523e3-729f-439d-e5df-8beef4724e50"
      },
      "source": [
        "#Realizando as importações\n",
        "import pandas as pd\n",
        "import numpy as np\n",
        "import requests\n",
        "from sklearn.model_selection import train_test_split\n",
        "from sklearn.neural_network import MLPClassifier\n",
        "from sklearn import svm\n",
        "\n",
        "\n",
        "#Criando o dataset:\n",
        "urlBalanca = 'https://raw.githubusercontent.com/flaviohahn/ApMaquina/master/balance_scale_dataset.csv'\n",
        "data = pd.read_csv(urlBalanca)\n",
        "data.head(5)"
      ],
      "execution_count": 8,
      "outputs": [
        {
          "output_type": "execute_result",
          "data": {
            "text/html": [
              "<div>\n",
              "<style scoped>\n",
              "    .dataframe tbody tr th:only-of-type {\n",
              "        vertical-align: middle;\n",
              "    }\n",
              "\n",
              "    .dataframe tbody tr th {\n",
              "        vertical-align: top;\n",
              "    }\n",
              "\n",
              "    .dataframe thead th {\n",
              "        text-align: right;\n",
              "    }\n",
              "</style>\n",
              "<table border=\"1\" class=\"dataframe\">\n",
              "  <thead>\n",
              "    <tr style=\"text-align: right;\">\n",
              "      <th></th>\n",
              "      <th>left_weight</th>\n",
              "      <th>left_distance</th>\n",
              "      <th>right_weight</th>\n",
              "      <th>right_distance</th>\n",
              "      <th>balance</th>\n",
              "    </tr>\n",
              "  </thead>\n",
              "  <tbody>\n",
              "    <tr>\n",
              "      <th>0</th>\n",
              "      <td>1</td>\n",
              "      <td>1</td>\n",
              "      <td>1</td>\n",
              "      <td>1</td>\n",
              "      <td>B</td>\n",
              "    </tr>\n",
              "    <tr>\n",
              "      <th>1</th>\n",
              "      <td>1</td>\n",
              "      <td>1</td>\n",
              "      <td>1</td>\n",
              "      <td>2</td>\n",
              "      <td>R</td>\n",
              "    </tr>\n",
              "    <tr>\n",
              "      <th>2</th>\n",
              "      <td>1</td>\n",
              "      <td>1</td>\n",
              "      <td>1</td>\n",
              "      <td>3</td>\n",
              "      <td>R</td>\n",
              "    </tr>\n",
              "    <tr>\n",
              "      <th>3</th>\n",
              "      <td>1</td>\n",
              "      <td>1</td>\n",
              "      <td>1</td>\n",
              "      <td>4</td>\n",
              "      <td>R</td>\n",
              "    </tr>\n",
              "    <tr>\n",
              "      <th>4</th>\n",
              "      <td>1</td>\n",
              "      <td>1</td>\n",
              "      <td>1</td>\n",
              "      <td>5</td>\n",
              "      <td>R</td>\n",
              "    </tr>\n",
              "  </tbody>\n",
              "</table>\n",
              "</div>"
            ],
            "text/plain": [
              "   left_weight  left_distance  right_weight  right_distance balance\n",
              "0            1              1             1               1       B\n",
              "1            1              1             1               2       R\n",
              "2            1              1             1               3       R\n",
              "3            1              1             1               4       R\n",
              "4            1              1             1               5       R"
            ]
          },
          "metadata": {
            "tags": []
          },
          "execution_count": 8
        }
      ]
    },
    {
      "cell_type": "markdown",
      "metadata": {
        "id": "0u9LZT1-7sDt",
        "colab_type": "text"
      },
      "source": [
        "A) Sugira uma rede neural para classificar (para 3 grupos) e explica as arquitetura e aprendizado (números de entradas, saídas, algoritmos de treinamento, etc )."
      ]
    },
    {
      "cell_type": "code",
      "metadata": {
        "id": "SZxcW6DicJ11",
        "colab_type": "code",
        "colab": {
          "base_uri": "https://localhost:8080/",
          "height": 119
        },
        "outputId": "6485551d-0c6f-4cbc-e0e6-1c39fe4c9250"
      },
      "source": [
        "data.count() # determina a quantidade de dados presente em cada classe"
      ],
      "execution_count": null,
      "outputs": [
        {
          "output_type": "execute_result",
          "data": {
            "text/plain": [
              "left_weight       625\n",
              "left_distance     625\n",
              "right_weight      625\n",
              "right_distance    625\n",
              "balance           625\n",
              "dtype: int64"
            ]
          },
          "metadata": {
            "tags": []
          },
          "execution_count": 15
        }
      ]
    },
    {
      "cell_type": "markdown",
      "metadata": {
        "id": "QFowIftQe2uB",
        "colab_type": "text"
      },
      "source": [
        ""
      ]
    },
    {
      "cell_type": "code",
      "metadata": {
        "id": "k1j7Uh5mcscy",
        "colab_type": "code",
        "colab": {}
      },
      "source": [
        "#X determina os dados que serão analisados, dados recebidos do dataset.\n",
        "X = data[['left_weight','left_distance','right_weight', 'right_distance']].values\n",
        "#Y determina o resultado esperado \n",
        "Y = data['balance'].values\n",
        "# separação dos dados em conjunto de treinamento e conjunto de teste, sendo 20% dos dados para teste;\n",
        "X_train, X_test, Y_train, Y_test = train_test_split(X, Y, test_size = 0.2, random_state = 1)\n"
      ],
      "execution_count": null,
      "outputs": []
    },
    {
      "cell_type": "code",
      "metadata": {
        "id": "56TEQr5rd4Cf",
        "colab_type": "code",
        "colab": {
          "base_uri": "https://localhost:8080/",
          "height": 34
        },
        "outputId": "661273a4-2339-4799-d10d-344244925833"
      },
      "source": [
        "#A classificação foi realizada pelo modelo SGD, foi informado o numero de neuronios ocultos (3) e definido o indice de aprendizagem de (0,1).\n",
        "#Também foi definido o numero maximo de interações sendo de 1500.\n",
        "# O esperimento gerou 88% de chances de sucesso.\n",
        "NNclf = MLPClassifier(solver='sgd', hidden_layer_sizes=(3,), learning_rate_init=0.1, activation='logistic', max_iter=1500, random_state=1)\n",
        "score = cross_val_score(NNclf, X, Y, cv = 5)\n",
        "print(\"Cross Validation mean: {}\".format(np.mean(score)))\n"
      ],
      "execution_count": null,
      "outputs": [
        {
          "output_type": "stream",
          "text": [
            "Cross Validation mean: 0.8848\n"
          ],
          "name": "stdout"
        }
      ]
    },
    {
      "cell_type": "markdown",
      "metadata": {
        "id": "gNwYwWlM70qK",
        "colab_type": "text"
      },
      "source": [
        "B) Não considera a classe equilibrada (ignora os objetos de classe equilibrada), usa SVM para classificar os dados."
      ]
    },
    {
      "cell_type": "code",
      "metadata": {
        "id": "cmtPNwxmfA0d",
        "colab_type": "code",
        "colab": {
          "base_uri": "https://localhost:8080/",
          "height": 102
        },
        "outputId": "5f6e6496-ded1-4068-a081-9bcc9f7e32ff"
      },
      "source": [
        "from sklearn.metrics import confusion_matrix\n",
        "X = data[['left_weight','left_distance','right_weight', 'right_distance']].values\n",
        "Y = data['balance'].values\n",
        "X_train, X_test, Y_train, Y_test = train_test_split(X, Y, test_size = 0.2, random_state = 1)\n",
        "\n",
        "svm_clf = svm.SVC(kernel = 'poly')\n",
        "score = cross_val_score(svm_clf, X, Y, cv = 5)\n",
        " \n",
        "print(\"Cross validation mean: {}\".format(np.mean(score)))\n",
        " \n",
        "svm_clf.fit(X_train, Y_train)\n",
        "confusion = confusion_matrix(y_true = Y_test, y_pred = svm_clf.predict(X_test))\n",
        "print('Confusion matrix:')\n",
        "print(confusion)"
      ],
      "execution_count": 10,
      "outputs": [
        {
          "output_type": "stream",
          "text": [
            "Cross validation mean: 0.9632\n",
            "Confusion matrix:\n",
            "[[11  0  0]\n",
            " [ 0 57  0]\n",
            " [ 2  0 55]]\n"
          ],
          "name": "stdout"
        }
      ]
    },
    {
      "cell_type": "markdown",
      "metadata": {
        "id": "U5v1E_Zy74rX",
        "colab_type": "text"
      },
      "source": [
        "C) Não considera a classe equilibrada (ignora os objetos de classe equilibrada), usa Naive Bayes para classificar os dados. Compara os resultados com a SVM."
      ]
    },
    {
      "cell_type": "code",
      "metadata": {
        "id": "-T5OgD_agT3B",
        "colab_type": "code",
        "colab": {
          "base_uri": "https://localhost:8080/",
          "height": 102
        },
        "outputId": "3c2ebd85-1e87-4435-db8f-af9ddaeae264"
      },
      "source": [
        "from sklearn.naive_bayes import GaussianNB\n",
        "X = data[['left_weight','left_distance','right_weight', 'right_distance']].values\n",
        "Y = data['balance'].values\n",
        "X_train, X_test, Y_train, Y_test = train_test_split(X, Y, test_size = 0.2, random_state = 1)\n",
        " \n",
        "naive_clf = GaussianNB()\n",
        "score = cross_val_score(naive_clf, X, Y, cv = 5)\n",
        " \n",
        "print(\"Cross Validation mean: {}\".format(np.mean(score)))\n",
        " \n",
        "naive_clf.fit(X_train, Y_train)\n",
        "confusion = confusion_matrix(y_true = Y_test, y_pred = naive_clf.predict(X_test))\n",
        "print('Confusion matrix:')\n",
        "print(confusion)\n"
      ],
      "execution_count": 12,
      "outputs": [
        {
          "output_type": "stream",
          "text": [
            "Cross Validation mean: 0.7392\n",
            "Confusion matrix:\n",
            "[[ 0  5  6]\n",
            " [ 0 55  2]\n",
            " [ 0  3 54]]\n"
          ],
          "name": "stdout"
        }
      ]
    },
    {
      "cell_type": "markdown",
      "metadata": {
        "id": "Yv-hX4za78TS",
        "colab_type": "text"
      },
      "source": [
        "**5) Considere o conjunto de treinamento, hipotético, abaixo, referente à “condição de obesidade”, apresentado a seguir, contendo um conjunto de 8 exemplos, com 4 atributos e um atributo classificador. Considere ainda os algoritmos para geração de árvores de decisão ID3 e C4.5, e o algoritmo PRISM para construção de regras de classificação, tais como vistos na disciplina AM. Use tais algoritmos para construir, manualmente, as respectivas árvores de decisão completas (em seguida mostrando as regras derivadas das árvores ID3 e C4.5) e as regras produzidas pela execução do PRISM. Mostre o passo a passo do processo de construção das árvores (via ID3 e C4.5) e das regras de classificação (via PRISM), apresentando os cálculos envolvidos, critério e justificativa de escolha para cada atributo candidato a ser raiz de árvore (e cada subárvore), em cada momento. Após a árvore ser construída, extraia e apresente as regras correspondentes às árvores de decisão construídas\n",
        "(com ID3 e C4.5). Ao final, faça uma discussão comparativa, considerando critérios técnicos de sua livre escolha, entre os resultados obtidos pelos 3 classificadores.**\n",
        "\n",
        "Escolha uma biblioteca/pacote de AM de sua preferência (Scikit Learn, Weka,\n",
        "R, . . . ) e rode os 3 algoritmos (entregando as soluções obtidas na implementação), verificando se os resultados das regras coincidem com os produzidos manualmente."
      ]
    },
    {
      "cell_type": "code",
      "metadata": {
        "id": "2J3HIty1rdL1",
        "colab_type": "code",
        "colab": {
          "base_uri": "https://localhost:8080/",
          "height": 297
        },
        "outputId": "2cee9907-a224-4202-ab4d-4fe9935ab91f"
      },
      "source": [
        "#Realizando as importações\n",
        "import pandas as pd\n",
        "import numpy as np\n",
        "import requests\n",
        "from sklearn.model_selection import train_test_split\n",
        "from sklearn.neural_network import MLPClassifier\n",
        "from sklearn import svm\n",
        "\n",
        "\n",
        "#Criando o dataset:\n",
        "urlCinco = 'https://raw.githubusercontent.com/flaviohahn/ApMaquina/master/am_quest_5.csv'\n",
        "dataComida = pd.read_csv(urlCinco, sep=';')\n",
        "dataComida.head(9)"
      ],
      "execution_count": 6,
      "outputs": [
        {
          "output_type": "execute_result",
          "data": {
            "text/html": [
              "<div>\n",
              "<style scoped>\n",
              "    .dataframe tbody tr th:only-of-type {\n",
              "        vertical-align: middle;\n",
              "    }\n",
              "\n",
              "    .dataframe tbody tr th {\n",
              "        vertical-align: top;\n",
              "    }\n",
              "\n",
              "    .dataframe thead th {\n",
              "        text-align: right;\n",
              "    }\n",
              "</style>\n",
              "<table border=\"1\" class=\"dataframe\">\n",
              "  <thead>\n",
              "    <tr style=\"text-align: right;\">\n",
              "      <th></th>\n",
              "      <th>Exemplo</th>\n",
              "      <th>Come</th>\n",
              "      <th>Vegetariano</th>\n",
              "      <th>Idade</th>\n",
              "      <th>Diabético</th>\n",
              "      <th>Classe</th>\n",
              "    </tr>\n",
              "  </thead>\n",
              "  <tbody>\n",
              "    <tr>\n",
              "      <th>0</th>\n",
              "      <td>1</td>\n",
              "      <td>pouco</td>\n",
              "      <td>sim</td>\n",
              "      <td>velho</td>\n",
              "      <td>sim</td>\n",
              "      <td>magro</td>\n",
              "    </tr>\n",
              "    <tr>\n",
              "      <th>1</th>\n",
              "      <td>2</td>\n",
              "      <td>médio</td>\n",
              "      <td>sim</td>\n",
              "      <td>velho</td>\n",
              "      <td>não</td>\n",
              "      <td>magro</td>\n",
              "    </tr>\n",
              "    <tr>\n",
              "      <th>2</th>\n",
              "      <td>3</td>\n",
              "      <td>muito</td>\n",
              "      <td>não</td>\n",
              "      <td>velho</td>\n",
              "      <td>sim</td>\n",
              "      <td>gordo</td>\n",
              "    </tr>\n",
              "    <tr>\n",
              "      <th>3</th>\n",
              "      <td>4</td>\n",
              "      <td>pouco</td>\n",
              "      <td>não</td>\n",
              "      <td>velho</td>\n",
              "      <td>não</td>\n",
              "      <td>magro</td>\n",
              "    </tr>\n",
              "    <tr>\n",
              "      <th>4</th>\n",
              "      <td>5</td>\n",
              "      <td>médio</td>\n",
              "      <td>não</td>\n",
              "      <td>jovem</td>\n",
              "      <td>sim</td>\n",
              "      <td>gordo</td>\n",
              "    </tr>\n",
              "    <tr>\n",
              "      <th>5</th>\n",
              "      <td>6</td>\n",
              "      <td>pouco</td>\n",
              "      <td>sim</td>\n",
              "      <td>jovem</td>\n",
              "      <td>não</td>\n",
              "      <td>magro</td>\n",
              "    </tr>\n",
              "    <tr>\n",
              "      <th>6</th>\n",
              "      <td>7</td>\n",
              "      <td>muito</td>\n",
              "      <td>não</td>\n",
              "      <td>velho</td>\n",
              "      <td>não</td>\n",
              "      <td>gordo</td>\n",
              "    </tr>\n",
              "    <tr>\n",
              "      <th>7</th>\n",
              "      <td>8</td>\n",
              "      <td>médio</td>\n",
              "      <td>não</td>\n",
              "      <td>jovem</td>\n",
              "      <td>sim</td>\n",
              "      <td>gordo</td>\n",
              "    </tr>\n",
              "  </tbody>\n",
              "</table>\n",
              "</div>"
            ],
            "text/plain": [
              "   Exemplo   Come Vegetariano  Idade Diabético Classe\n",
              "0        1  pouco         sim  velho       sim  magro\n",
              "1        2  médio         sim  velho       não  magro\n",
              "2        3  muito         não  velho       sim  gordo\n",
              "3        4  pouco         não  velho       não  magro\n",
              "4        5  médio         não  jovem       sim  gordo\n",
              "5        6  pouco         sim  jovem       não  magro\n",
              "6        7  muito         não  velho       não  gordo\n",
              "7        8  médio         não  jovem       sim  gordo"
            ]
          },
          "metadata": {
            "tags": []
          },
          "execution_count": 6
        }
      ]
    },
    {
      "cell_type": "markdown",
      "metadata": {
        "id": "IbEbW0yf_bF4",
        "colab_type": "text"
      },
      "source": [
        "# **arquivo arff**\n",
        "\n",
        "@relation am_quest_5\n",
        "\n",
        "@attribute Come {pouco,medio,muito}\n",
        "@attribute Vegetariano {sim,nao}\n",
        "@attribute Idade {jovem,velho}\n",
        "@attribute Diabetico {sim,sao}\n",
        "@attribute Classe {magro,gordo}\n",
        "\n",
        "@data\n",
        "pouco,sim,velho,sim,magro\n",
        "medio,sim,velho,sao,magro\n",
        "muito,nao,velho,sim,gordo\n",
        "pouco,nao,velho,sao,magro\n",
        "medio,nao,jovem,sim,gordo\n",
        "pouco,sim,jovem,sao,magro\n",
        "muito,nao,velho,sao,gordo\n",
        "medio,nao,jovem,sim,gordo\n"
      ]
    },
    {
      "cell_type": "markdown",
      "metadata": {
        "id": "OC1qZvbQ-Yc7",
        "colab_type": "text"
      },
      "source": [
        "# **ID3 com Weka**\n",
        "\n",
        "=== Run information ===\n",
        "\n",
        "Scheme:       weka.classifiers.trees.Id3 \n",
        "Relation:     am_quest_5\n",
        "Instances:    8\n",
        "Attributes:   5\n",
        "              Come\n",
        "              Vegetariano\n",
        "              Idade\n",
        "              Diabetico\n",
        "              Classe\n",
        "Test mode:    evaluate on training data\n",
        "\n",
        "=== Classifier model (full training set) ===\n",
        "\n",
        "Id3\n",
        "\n",
        "\n",
        "Come = pouco: magro\n",
        "Come = medio\n",
        "|  Vegetariano = sim: magro\n",
        "|  Vegetariano = nao: gordo\n",
        "Come = muito: gordo\n",
        "\n",
        "Time taken to build model: 0 seconds\n",
        "\n",
        "=== Evaluation on training set ===\n",
        "\n",
        "Time taken to test model on training data: 0 seconds\n",
        "\n",
        "=== Summary ===\n",
        "\n",
        "Correctly Classified Instances           8              100      %\n",
        "Incorrectly Classified Instances         0                0      %\n",
        "Kappa statistic                          1     \n",
        "Mean absolute error                      0     \n",
        "Root mean squared error                  0     \n",
        "Relative absolute error                  0      %\n",
        "Root relative squared error              0      %\n",
        "Total Number of Instances                8     \n",
        "\n",
        "=== Detailed Accuracy By Class ===\n",
        "\n",
        "                 TP Rate  FP Rate  Precision  Recall   F-Measure  MCC      ROC Area  PRC Area  Class\n",
        "                 1,000    0,000    1,000      1,000    1,000      1,000    1,000     1,000     magro\n",
        "                 1,000    0,000    1,000      1,000    1,000      1,000    1,000     1,000     gordo\n",
        "Weighted Avg.    1,000    0,000    1,000      1,000    1,000      1,000    1,000     1,000     \n",
        "\n",
        "=== Confusion Matrix ===\n",
        "\n",
        " a b   <-- classified as\n",
        "\n",
        " 4 0 | a = magro\n",
        " \n",
        " 0 4 | b = gordo\n",
        "\n"
      ]
    },
    {
      "cell_type": "markdown",
      "metadata": {
        "id": "xmbBgWgd5vp2",
        "colab_type": "text"
      },
      "source": [
        "# **C4.5 com Weka**\n",
        "\n",
        "=== Run information ===\n",
        "\n",
        "Scheme:       weka.classifiers.trees.J48 -R -N 3 -Q 1 -M 2\n",
        "Relation:     am_quest_5\n",
        "Instances:    8\n",
        "Attributes:   5\n",
        "              Come\n",
        "              Vegetariano\n",
        "              Idade\n",
        "              DiabÃ©tico\n",
        "              Classe\n",
        "Test mode:    evaluate on training data\n",
        "\n",
        "=== Classifier model (full training set) ===\n",
        "\n",
        "J48 pruned tree\n",
        "------------------\n",
        ": magro (6.0/3.0)\n",
        "\n",
        "Number of Leaves  : \t1\n",
        "\n",
        "Size of the tree : \t1\n",
        "\n",
        "\n",
        "Time taken to build model: 0.01 seconds\n",
        "\n",
        "=== Evaluation on training set ===\n",
        "\n",
        "Time taken to test model on training data: 0.01 seconds\n",
        "\n",
        "=== Summary ===\n",
        "\n",
        "Correctly Classified Instances           4               50      %\n",
        "Incorrectly Classified Instances         4               50      %\n",
        "Kappa statistic                          0     \n",
        "Mean absolute error                      0.5   \n",
        "Root mean squared error                  0.5   \n",
        "Relative absolute error                100      %\n",
        "Root relative squared error            100      %\n",
        "Total Number of Instances                8     \n",
        "\n",
        "=== Detailed Accuracy By Class ===\n",
        "\n",
        "                 TP Rate  FP Rate  Precision  Recall   F-Measure  MCC      ROC Area  PRC Area  Class\n",
        "                 1,000    1,000    0,500      1,000    0,667      ?        0,500     0,500     magro\n",
        "                 0,000    0,000    ?          0,000    ?          ?        0,500     0,500     gordo\n",
        "Weighted Avg.    0,500    0,500    ?          0,500    ?          ?        0,500     0,500     \n",
        "\n",
        "=== Confusion Matrix ===\n",
        "\n",
        " a b   <-- classified as\n",
        "\n",
        " 4 0 | a = magro\n",
        "\n",
        " 4 0 | b = gordo\n",
        "\n"
      ]
    },
    {
      "cell_type": "markdown",
      "metadata": {
        "id": "6TKmUNmH_Hg-",
        "colab_type": "text"
      },
      "source": [
        "# **Classificação com Prism usando Weka**\n",
        "\n",
        "=== Run information ===\n",
        "\n",
        "Scheme:       weka.classifiers.rules.Prism \n",
        "Relation:     am_quest_5\n",
        "Instances:    8\n",
        "Attributes:   5\n",
        "              Come\n",
        "              Vegetariano\n",
        "              Idade\n",
        "              Diabetico\n",
        "              Classe\n",
        "Test mode:    evaluate on training data\n",
        "\n",
        "=== Classifier model (full training set) ===\n",
        "\n",
        "Prism rules\n",
        "----------\n",
        "If Come = pouco then magro\n",
        "If Vegetariano = sim then magro\n",
        "If Come = muito then gordo\n",
        "If Come = medio\n",
        "   and Vegetariano = nao then gordo\n",
        "\n",
        "\n",
        "Time taken to build model: 0 seconds\n",
        "\n",
        "=== Evaluation on training set ===\n",
        "\n",
        "Time taken to test model on training data: 0 seconds\n",
        "\n",
        "=== Summary ===\n",
        "\n",
        "Correctly Classified Instances           8              100      %\n",
        "Incorrectly Classified Instances         0                0      %\n",
        "Kappa statistic                          1     \n",
        "Mean absolute error                      0     \n",
        "Root mean squared error                  0     \n",
        "Relative absolute error                  0      %\n",
        "Root relative squared error              0      %\n",
        "Total Number of Instances                8     \n",
        "\n",
        "=== Detailed Accuracy By Class ===\n",
        "\n",
        "                 TP Rate  FP Rate  Precision  Recall   F-Measure  MCC      ROC Area  PRC Area  Class\n",
        "                 1,000    0,000    1,000      1,000    1,000      1,000    1,000     1,000     magro\n",
        "                 1,000    0,000    1,000      1,000    1,000      1,000    1,000     1,000     gordo\n",
        "Weighted Avg.    1,000    0,000    1,000      1,000    1,000      1,000    1,000     1,000     \n",
        "\n",
        "=== Confusion Matrix ===\n",
        "\n",
        " a b   <-- classified as\n",
        "\n",
        " 4 0 | a = magro\n",
        " \n",
        " 0 4 | b = gordo\n"
      ]
    },
    {
      "cell_type": "markdown",
      "metadata": {
        "id": "84WllCWP8FJi",
        "colab_type": "text"
      },
      "source": [
        ""
      ]
    },
    {
      "cell_type": "markdown",
      "metadata": {
        "id": "O02zIXBI8Moq",
        "colab_type": "text"
      },
      "source": [
        "**6) )Mostre, com a ajuda de um conjunto de dados, 3 limitações (por exemplo:\n",
        "Lidar com algum tipo de overfitting, . . . ) presentes no algoritmo ID3, explicando-as e demonstrando como tais limitações podem ser resolvidas com o algoritmo C4.5. No mais, comprove suas respostas, demonstrando-as na prática com a execução do conjunto de treinamento em uma biblioteca/pacote de AM de sua preferência (Scikit Learn, Weka, R, . . . ), entregando a solução implementada**"
      ]
    },
    {
      "cell_type": "markdown",
      "metadata": {
        "id": "iVv42uFU8vbM",
        "colab_type": "text"
      },
      "source": [
        "**7) Julgue, com argumentos técnicos e com demonstração experimental, as seguintes afirmações quanto às suas possíveis veracidades:**"
      ]
    },
    {
      "cell_type": "markdown",
      "metadata": {
        "id": "U-YLzRyt9FZl",
        "colab_type": "text"
      },
      "source": [
        "Na justificativa, utilize um conjunto de dados como exemplo."
      ]
    },
    {
      "cell_type": "markdown",
      "metadata": {
        "id": "vjYfP_3O81v7",
        "colab_type": "text"
      },
      "source": [
        "A) Os algoritmos de indução de árvores de decisão são robustos quanto à presença\n",
        "de ruído, num contexto de overfitting."
      ]
    },
    {
      "cell_type": "markdown",
      "metadata": {
        "id": "8j2Bj1mv8-XL",
        "colab_type": "text"
      },
      "source": [
        "B) A presença de atributos redundantes (atributo fortemente relacionado a outro)\n",
        "em um conjunto de dados para treinamento não afeta adversamente a precisão do modelo construído com indução de ADs."
      ]
    },
    {
      "cell_type": "markdown",
      "metadata": {
        "id": "35oVQHo69JBo",
        "colab_type": "text"
      },
      "source": [
        "**8) Escolher uma base de dados do repositório UCI e implemente uma solução de comitê bagging, com no mínimo de 3 classificadores. Neste sentido, realize as seguintes atividades: (i) Justifique a escolha da base de dados; (ii) Avalie o desempenho da versão single de cada classificador, para a base de dados escolhida, utilizando uma das métricas já apresentadas no curso; (iii) Avalie o desempenho da versão bagging para cada classificador, para a base de dados escolhida, utilizando uma das métricas já apresentadas no curso; (iv) Faça análise crítica e comparativa entre a versão single e bagging dos classificadores utilizados. Obs.: Para implementação, utilize a linguagem de programação de sua preferência.**"
      ]
    },
    {
      "cell_type": "code",
      "metadata": {
        "id": "_4FqB4yH9Qr3",
        "colab_type": "code",
        "colab": {}
      },
      "source": [
        ""
      ],
      "execution_count": null,
      "outputs": []
    }
  ]
}