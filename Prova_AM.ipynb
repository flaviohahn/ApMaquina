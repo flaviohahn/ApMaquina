{
  "nbformat": 4,
  "nbformat_minor": 0,
  "metadata": {
    "colab": {
      "name": "Prova_AM.ipynb",
      "provenance": [],
      "collapsed_sections": [],
      "authorship_tag": "ABX9TyMS4ZOVU1ATv7gxMGbpepBt",
      "include_colab_link": true
    },
    "kernelspec": {
      "name": "python3",
      "display_name": "Python 3"
    }
  },
  "cells": [
    {
      "cell_type": "markdown",
      "metadata": {
        "id": "view-in-github",
        "colab_type": "text"
      },
      "source": [
        "<a href=\"https://colab.research.google.com/github/flaviohahn/ApMaquina/blob/master/Prova_AM.ipynb\" target=\"_parent\"><img src=\"https://colab.research.google.com/assets/colab-badge.svg\" alt=\"Open In Colab\"/></a>"
      ]
    },
    {
      "cell_type": "markdown",
      "metadata": {
        "id": "XS5KeEJg6Gib",
        "colab_type": "text"
      },
      "source": [
        "**UNIVERSIDADE FEDERAL DE ALAGOAS**\n",
        "\n",
        "**INSTITUTO DE COMPUTAÇÃO**\n",
        "\n",
        "**ALUNO:** FLÁVIO OSCAR HAHN\n",
        "\n",
        "**PROFS:** EVANDRO COSTA E XU YANG\n",
        "\n",
        "**CURSO:** APRENDIZAGEM DE MAQUINA\n"
      ]
    },
    {
      "cell_type": "markdown",
      "metadata": {
        "id": "2X3TwJ6T645t",
        "colab_type": "text"
      },
      "source": [
        "**1) Dado os dados de Balança.csv, calcule a matriz de covariança e faça um scatter plot. Baseado na matriz e scatter plot, discuta a independência dos atributos.**"
      ]
    },
    {
      "cell_type": "code",
      "metadata": {
        "id": "RUev0mQo5_E-",
        "colab_type": "code",
        "colab": {
          "base_uri": "https://localhost:8080/",
          "height": 204
        },
        "outputId": "6d264d2e-bfbe-4fcc-9437-f3f397021dc4"
      },
      "source": [
        "#Realizando as importações\n",
        "import pandas as pd\n",
        "import numpy as np\n",
        "import seaborn as sn\n",
        "\n",
        "import matplotlib.pyplot as plt\n",
        "#Criando o dataset:\n",
        "urlBalanca = 'https://raw.githubusercontent.com/flaviohahn/ApMaquina/master/balance_scale_dataset.csv'\n",
        "dados = pd.read_csv(urlBalanca)\n",
        "dados.head(5)\n"
      ],
      "execution_count": null,
      "outputs": [
        {
          "output_type": "execute_result",
          "data": {
            "text/html": [
              "<div>\n",
              "<style scoped>\n",
              "    .dataframe tbody tr th:only-of-type {\n",
              "        vertical-align: middle;\n",
              "    }\n",
              "\n",
              "    .dataframe tbody tr th {\n",
              "        vertical-align: top;\n",
              "    }\n",
              "\n",
              "    .dataframe thead th {\n",
              "        text-align: right;\n",
              "    }\n",
              "</style>\n",
              "<table border=\"1\" class=\"dataframe\">\n",
              "  <thead>\n",
              "    <tr style=\"text-align: right;\">\n",
              "      <th></th>\n",
              "      <th>left_weight</th>\n",
              "      <th>left_distance</th>\n",
              "      <th>right_weight</th>\n",
              "      <th>right_distance</th>\n",
              "      <th>balance</th>\n",
              "    </tr>\n",
              "  </thead>\n",
              "  <tbody>\n",
              "    <tr>\n",
              "      <th>0</th>\n",
              "      <td>1</td>\n",
              "      <td>1</td>\n",
              "      <td>1</td>\n",
              "      <td>1</td>\n",
              "      <td>B</td>\n",
              "    </tr>\n",
              "    <tr>\n",
              "      <th>1</th>\n",
              "      <td>1</td>\n",
              "      <td>1</td>\n",
              "      <td>1</td>\n",
              "      <td>2</td>\n",
              "      <td>R</td>\n",
              "    </tr>\n",
              "    <tr>\n",
              "      <th>2</th>\n",
              "      <td>1</td>\n",
              "      <td>1</td>\n",
              "      <td>1</td>\n",
              "      <td>3</td>\n",
              "      <td>R</td>\n",
              "    </tr>\n",
              "    <tr>\n",
              "      <th>3</th>\n",
              "      <td>1</td>\n",
              "      <td>1</td>\n",
              "      <td>1</td>\n",
              "      <td>4</td>\n",
              "      <td>R</td>\n",
              "    </tr>\n",
              "    <tr>\n",
              "      <th>4</th>\n",
              "      <td>1</td>\n",
              "      <td>1</td>\n",
              "      <td>1</td>\n",
              "      <td>5</td>\n",
              "      <td>R</td>\n",
              "    </tr>\n",
              "  </tbody>\n",
              "</table>\n",
              "</div>"
            ],
            "text/plain": [
              "   left_weight  left_distance  right_weight  right_distance balance\n",
              "0            1              1             1               1       B\n",
              "1            1              1             1               2       R\n",
              "2            1              1             1               3       R\n",
              "3            1              1             1               4       R\n",
              "4            1              1             1               5       R"
            ]
          },
          "metadata": {
            "tags": []
          },
          "execution_count": 29
        }
      ]
    },
    {
      "cell_type": "code",
      "metadata": {
        "id": "PQ43ZZ0Wviu1",
        "colab_type": "code",
        "colab": {
          "base_uri": "https://localhost:8080/",
          "height": 85
        },
        "outputId": "9f708913-7c52-450e-f7de-0d4b74098d6b"
      },
      "source": [
        "#Primeiro vamos calcular a matriz de covaiância usando a Numpy\n",
        "X = dados.iloc[:,:-1].values\n",
        "covariance = np.cov(X, rowvar=False)\n",
        "display(covariance)"
      ],
      "execution_count": null,
      "outputs": [
        {
          "output_type": "display_data",
          "data": {
            "text/plain": [
              "array([[2.00320513, 0.        , 0.        , 0.        ],\n",
              "       [0.        , 2.00320513, 0.        , 0.        ],\n",
              "       [0.        , 0.        , 2.00320513, 0.        ],\n",
              "       [0.        , 0.        , 0.        , 2.00320513]])"
            ]
          },
          "metadata": {
            "tags": []
          }
        }
      ]
    },
    {
      "cell_type": "code",
      "metadata": {
        "id": "HMuSDOYqiDU3",
        "colab_type": "code",
        "colab": {
          "base_uri": "https://localhost:8080/",
          "height": 173
        },
        "outputId": "533ceef3-3333-4430-f708-7ebe40404a7f"
      },
      "source": [
        "#Agora vamos calcular a matriz de covaiância usando a Pandas\n",
        "df_covariance = dados.cov()\n",
        "display(df_covariance)"
      ],
      "execution_count": null,
      "outputs": [
        {
          "output_type": "display_data",
          "data": {
            "text/html": [
              "<div>\n",
              "<style scoped>\n",
              "    .dataframe tbody tr th:only-of-type {\n",
              "        vertical-align: middle;\n",
              "    }\n",
              "\n",
              "    .dataframe tbody tr th {\n",
              "        vertical-align: top;\n",
              "    }\n",
              "\n",
              "    .dataframe thead th {\n",
              "        text-align: right;\n",
              "    }\n",
              "</style>\n",
              "<table border=\"1\" class=\"dataframe\">\n",
              "  <thead>\n",
              "    <tr style=\"text-align: right;\">\n",
              "      <th></th>\n",
              "      <th>left_weight</th>\n",
              "      <th>left_distance</th>\n",
              "      <th>right_weight</th>\n",
              "      <th>right_distance</th>\n",
              "    </tr>\n",
              "  </thead>\n",
              "  <tbody>\n",
              "    <tr>\n",
              "      <th>left_weight</th>\n",
              "      <td>2.003205</td>\n",
              "      <td>0.000000</td>\n",
              "      <td>0.000000</td>\n",
              "      <td>0.000000</td>\n",
              "    </tr>\n",
              "    <tr>\n",
              "      <th>left_distance</th>\n",
              "      <td>0.000000</td>\n",
              "      <td>2.003205</td>\n",
              "      <td>0.000000</td>\n",
              "      <td>0.000000</td>\n",
              "    </tr>\n",
              "    <tr>\n",
              "      <th>right_weight</th>\n",
              "      <td>0.000000</td>\n",
              "      <td>0.000000</td>\n",
              "      <td>2.003205</td>\n",
              "      <td>0.000000</td>\n",
              "    </tr>\n",
              "    <tr>\n",
              "      <th>right_distance</th>\n",
              "      <td>0.000000</td>\n",
              "      <td>0.000000</td>\n",
              "      <td>0.000000</td>\n",
              "      <td>2.003205</td>\n",
              "    </tr>\n",
              "  </tbody>\n",
              "</table>\n",
              "</div>"
            ],
            "text/plain": [
              "                left_weight  left_distance  right_weight  right_distance\n",
              "left_weight        2.003205       0.000000      0.000000        0.000000\n",
              "left_distance      0.000000       2.003205      0.000000        0.000000\n",
              "right_weight       0.000000       0.000000      2.003205        0.000000\n",
              "right_distance     0.000000       0.000000      0.000000        2.003205"
            ]
          },
          "metadata": {
            "tags": []
          }
        }
      ]
    },
    {
      "cell_type": "code",
      "metadata": {
        "id": "lHPKhxo2imyI",
        "colab_type": "code",
        "colab": {
          "base_uri": "https://localhost:8080/",
          "height": 385
        },
        "outputId": "85091984-f725-48c8-9fd5-a92ad506651a"
      },
      "source": [
        "#scatter plot\n",
        "sn.lmplot(x='left_distance', y='right_distance', data=dados, \n",
        "           fit_reg=True, # No regression line\n",
        "           hue='balance')   # Color by evolution stage\n",
        "\n",
        "# cria um título para o gráfico\n",
        "plt.title('Distância a Esquerda vs distância a direita.')\n",
        "\n",
        "# mostra o gráfico\n",
        "plt.show()"
      ],
      "execution_count": null,
      "outputs": [
        {
          "output_type": "display_data",
          "data": {
            "image/png": "[encoded data removed]",
            "text/plain": [
              "<Figure size 407.375x360 with 1 Axes>"
            ]
          },
          "metadata": {
            "tags": [],
            "needs_background": "light"
          }
        }
      ]
    },
    {
      "cell_type": "markdown",
      "metadata": {
        "id": "u4CIn711tzG3",
        "colab_type": "text"
      },
      "source": [
        "Os conjuntos se móstram com distânciamento uniforme e linearmente independente."
      ]
    },
    {
      "cell_type": "markdown",
      "metadata": {
        "id": "MSLMZF_D7ElL",
        "colab_type": "text"
      },
      "source": [
        "**2) Considere uma SVM cujos hiperplanos canônicos sejão H1 : w * x + b = 1 e H2 : w * x + b = -1. Demonstre que a maximização da margem de separação dos objetos em relação a w * x + b = 0 pode ser obtida pela minimização de |w|.**"
      ]
    },
    {
      "cell_type": "markdown",
      "metadata": {
        "id": "1579rxEiKKDP",
        "colab_type": "text"
      },
      "source": [
        "![image.png](data:image/png;base64,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)"
      ]
    },
    {
      "cell_type": "markdown",
      "metadata": {
        "id": "4QPjP03cKY4U",
        "colab_type": "text"
      },
      "source": [
        "Seja x1 um ponto no hiperplano H1:w * x + b = 1 e x2 um ponto no hiperplano\n",
        "H2: w * x + b = −1. Projetando x1 − x2 na direção de w,\n",
        "perpendicular ao hiperplano separador w · x + b = 0, é possível obter a distância entre os hiperplanos H1 e H2 [6]. Essa projeção é apresentada na Equação  (x1 − x2) (w/||w|| * (x1-x2)/||(x1 - x2)||).\n",
        "\n",
        " A diferença entre a equação w * x + b = 1 e w * x + b = −1 forenece a equação w * x + b = 2. \n",
        "\n",
        " Subistituindo esse resultado na equação temos:\n",
        " 2(x1 - x2)/||x|| ||x1 - x2|| = 2/||x||\n",
        "\n",
        " Essa é a distância d, ilustrada na Figura, entre os hiperplanos H1 e H2, paralelos ao hiperplano separador. Como w e b foram escalados de forma a não haver exemplos entre H1 e H2, 1/||w|| é a distância mínima entre o hiperplano separador e os dados de treinamento. Essa distância é definida como a margem geométrica do classificador linear.\n",
        " \n",
        " A partir dassas considerações, verifica-se que a maximização da margem de separação dos dados em relação a w · x + b = 0 pode ser obtida pela minimização de ||w||."
      ]
    },
    {
      "cell_type": "markdown",
      "metadata": {
        "id": "jJFV3eIT7QjC",
        "colab_type": "text"
      },
      "source": [
        "**3) Dado os dados de Iris.csv:**"
      ]
    },
    {
      "cell_type": "code",
      "metadata": {
        "id": "b2KFu3Kz7lGh",
        "colab_type": "code",
        "colab": {
          "base_uri": "https://localhost:8080/",
          "height": 204
        },
        "outputId": "279d5367-3a25-400f-b48e-c011833d2e15"
      },
      "source": [
        "#Realizando as importações\n",
        "import pandas as pd\n",
        "import numpy as np\n",
        "import seaborn as sn\n",
        "import matplotlib.pyplot as plt\n",
        "\n",
        "#Criando o dataset:\n",
        "urlIris = 'https://raw.githubusercontent.com/flaviohahn/ApMaquina/master/iris_dataset.csv'\n",
        "iris_df = pd.read_csv(urlIris)\n",
        "iris_df.head(5)"
      ],
      "execution_count": 37,
      "outputs": [
        {
          "output_type": "execute_result",
          "data": {
            "text/html": [
              "<div>\n",
              "<style scoped>\n",
              "    .dataframe tbody tr th:only-of-type {\n",
              "        vertical-align: middle;\n",
              "    }\n",
              "\n",
              "    .dataframe tbody tr th {\n",
              "        vertical-align: top;\n",
              "    }\n",
              "\n",
              "    .dataframe thead th {\n",
              "        text-align: right;\n",
              "    }\n",
              "</style>\n",
              "<table border=\"1\" class=\"dataframe\">\n",
              "  <thead>\n",
              "    <tr style=\"text-align: right;\">\n",
              "      <th></th>\n",
              "      <th>sepal_length</th>\n",
              "      <th>sepal_width</th>\n",
              "      <th>petal_length</th>\n",
              "      <th>petal_width</th>\n",
              "      <th>flower</th>\n",
              "    </tr>\n",
              "  </thead>\n",
              "  <tbody>\n",
              "    <tr>\n",
              "      <th>0</th>\n",
              "      <td>5.1</td>\n",
              "      <td>3.5</td>\n",
              "      <td>1.4</td>\n",
              "      <td>0.2</td>\n",
              "      <td>Iris-setosa</td>\n",
              "    </tr>\n",
              "    <tr>\n",
              "      <th>1</th>\n",
              "      <td>4.9</td>\n",
              "      <td>3.0</td>\n",
              "      <td>1.4</td>\n",
              "      <td>0.2</td>\n",
              "      <td>Iris-setosa</td>\n",
              "    </tr>\n",
              "    <tr>\n",
              "      <th>2</th>\n",
              "      <td>4.7</td>\n",
              "      <td>3.2</td>\n",
              "      <td>1.3</td>\n",
              "      <td>0.2</td>\n",
              "      <td>Iris-setosa</td>\n",
              "    </tr>\n",
              "    <tr>\n",
              "      <th>3</th>\n",
              "      <td>4.6</td>\n",
              "      <td>3.1</td>\n",
              "      <td>1.5</td>\n",
              "      <td>0.2</td>\n",
              "      <td>Iris-setosa</td>\n",
              "    </tr>\n",
              "    <tr>\n",
              "      <th>4</th>\n",
              "      <td>5.0</td>\n",
              "      <td>3.6</td>\n",
              "      <td>1.4</td>\n",
              "      <td>0.2</td>\n",
              "      <td>Iris-setosa</td>\n",
              "    </tr>\n",
              "  </tbody>\n",
              "</table>\n",
              "</div>"
            ],
            "text/plain": [
              "   sepal_length  sepal_width  petal_length  petal_width       flower\n",
              "0           5.1          3.5           1.4          0.2  Iris-setosa\n",
              "1           4.9          3.0           1.4          0.2  Iris-setosa\n",
              "2           4.7          3.2           1.3          0.2  Iris-setosa\n",
              "3           4.6          3.1           1.5          0.2  Iris-setosa\n",
              "4           5.0          3.6           1.4          0.2  Iris-setosa"
            ]
          },
          "metadata": {
            "tags": []
          },
          "execution_count": 37
        }
      ]
    },
    {
      "cell_type": "code",
      "metadata": {
        "id": "b9cZsG4X1-zm",
        "colab_type": "code",
        "colab": {
          "base_uri": "https://localhost:8080/",
          "height": 85
        },
        "outputId": "e58ad0b2-ea6c-4a81-9f48-dd02a46f8f14"
      },
      "source": [
        "iris_df['flower'].value_counts()"
      ],
      "execution_count": 38,
      "outputs": [
        {
          "output_type": "execute_result",
          "data": {
            "text/plain": [
              "Iris-virginica     50\n",
              "Iris-setosa        50\n",
              "Iris-versicolor    50\n",
              "Name: flower, dtype: int64"
            ]
          },
          "metadata": {
            "tags": []
          },
          "execution_count": 38
        }
      ]
    },
    {
      "cell_type": "markdown",
      "metadata": {
        "id": "54DIXWGS7en6",
        "colab_type": "text"
      },
      "source": [
        "(a) Calcule a probabilidade a priori para cada classe.\n"
      ]
    },
    {
      "cell_type": "code",
      "metadata": {
        "id": "KZhv2HtW7lrx",
        "colab_type": "code",
        "colab": {
          "base_uri": "https://localhost:8080/",
          "height": 122
        },
        "outputId": "336bb0fe-ef21-4e5a-eeab-af73530de96f"
      },
      "source": [
        "probabilidade_setosa = 50/150\n",
        "display('Probabilidade Setosa:' ,probabilidade_setosa)\n",
        "probabilidade_versicolor = 50/150\n",
        "display('Probabilidade Setosa:' ,probabilidade_versicolor)\n",
        "probabilidade_virginica = 50/150\n",
        "display('Probabilidade Setosa:' ,probabilidade_virginica)"
      ],
      "execution_count": 39,
      "outputs": [
        {
          "output_type": "display_data",
          "data": {
            "application/vnd.google.colaboratory.intrinsic+json": {
              "type": "string"
            },
            "text/plain": [
              "'Probabilidade Setosa:'"
            ]
          },
          "metadata": {
            "tags": []
          }
        },
        {
          "output_type": "display_data",
          "data": {
            "text/plain": [
              "0.3333333333333333"
            ]
          },
          "metadata": {
            "tags": []
          }
        },
        {
          "output_type": "display_data",
          "data": {
            "application/vnd.google.colaboratory.intrinsic+json": {
              "type": "string"
            },
            "text/plain": [
              "'Probabilidade Setosa:'"
            ]
          },
          "metadata": {
            "tags": []
          }
        },
        {
          "output_type": "display_data",
          "data": {
            "text/plain": [
              "0.3333333333333333"
            ]
          },
          "metadata": {
            "tags": []
          }
        },
        {
          "output_type": "display_data",
          "data": {
            "application/vnd.google.colaboratory.intrinsic+json": {
              "type": "string"
            },
            "text/plain": [
              "'Probabilidade Setosa:'"
            ]
          },
          "metadata": {
            "tags": []
          }
        },
        {
          "output_type": "display_data",
          "data": {
            "text/plain": [
              "0.3333333333333333"
            ]
          },
          "metadata": {
            "tags": []
          }
        }
      ]
    },
    {
      "cell_type": "markdown",
      "metadata": {
        "id": "zOLxTjRZ7giR",
        "colab_type": "text"
      },
      "source": [
        "(b) Para um objeto x = (4.8, 3.1, 1.5, 0.2), calcular a verossimilhança.\n"
      ]
    },
    {
      "cell_type": "code",
      "metadata": {
        "id": "HtpMmSwnXkiQ",
        "colab_type": "code",
        "colab": {
          "base_uri": "https://localhost:8080/",
          "height": 231
        },
        "outputId": "ea6d7cc3-5942-4185-e5bf-85e1e47b414a"
      },
      "source": [
        "\n",
        "def density_function(mean, var, x):\n",
        "    \n",
        "    a = 1.0 / ( math.sqrt(2 * math.pi * var) )\n",
        "    b = math.exp( -1 * (x - mean)**2 / (2 * var) )\n",
        "    \n",
        "    densidade = a * b\n",
        "    return densidade\n",
        "\n",
        "flor = [4.8, 3.1, 1.5, 0.2]\n",
        "\n",
        "setosa = iris_df[ds_iris['flower'] == flowers[0]]\n",
        "versicolor = iris_df[iris_df['flower'] == flowers[1]]\n",
        "virginica = iris_df[iris_df['flower'] == flowers[2]]\n",
        "\n",
        "setosa_mean = setosa.mean()\n",
        "versicolor_mean = versicolor.mean()\n",
        "virginica_mean = virginica.mean()\n",
        "\n",
        "setosa_var = setosa.var()\n",
        "versicolor_var = versicolor.var()\n",
        "virginica_var = virginica.var()\n",
        "\n",
        "iris_classes_mean = [setosa_mean, versicolor_mean, virginica_mean]\n",
        "iris_classes_var = [setosa_var, versicolor_var, virginica_var]\n",
        "\n",
        "verList= []\n",
        "for f in range(len(flowers)):\n",
        "\n",
        "    ver = 1\n",
        "    print(f'Verossimilhança dado {flowers[f]}:')\n",
        "    \n",
        "    for i in range(len(flor)):\n",
        "        v = density_function(iris_classes_mean[f][i], iris_classes_var[f][i], flor[i])\n",
        "        print(f'{flor[i]} | {flowers[f]} = {v:.3} ')\n",
        "        \n",
        "        ver *= v\n",
        "    print(f'new_flower | {flowers[f]} = {ver:.3} ' )\n",
        "    verList.append(ver)"
      ],
      "execution_count": 40,
      "outputs": [
        {
          "output_type": "error",
          "ename": "NameError",
          "evalue": "ignored",
          "traceback": [
            "\u001b[0;31m---------------------------------------------------------------------------\u001b[0m",
            "\u001b[0;31mNameError\u001b[0m                                 Traceback (most recent call last)",
            "\u001b[0;32m<ipython-input-40-4d8a7fca7e91>\u001b[0m in \u001b[0;36m<module>\u001b[0;34m()\u001b[0m\n\u001b[1;32m     10\u001b[0m \u001b[0mflor\u001b[0m \u001b[0;34m=\u001b[0m \u001b[0;34m[\u001b[0m\u001b[0;36m4.8\u001b[0m\u001b[0;34m,\u001b[0m \u001b[0;36m3.1\u001b[0m\u001b[0;34m,\u001b[0m \u001b[0;36m1.5\u001b[0m\u001b[0;34m,\u001b[0m \u001b[0;36m0.2\u001b[0m\u001b[0;34m]\u001b[0m\u001b[0;34m\u001b[0m\u001b[0;34m\u001b[0m\u001b[0m\n\u001b[1;32m     11\u001b[0m \u001b[0;34m\u001b[0m\u001b[0m\n\u001b[0;32m---> 12\u001b[0;31m \u001b[0msetosa\u001b[0m \u001b[0;34m=\u001b[0m \u001b[0miris_df\u001b[0m\u001b[0;34m[\u001b[0m\u001b[0mds_iris\u001b[0m\u001b[0;34m[\u001b[0m\u001b[0;34m'flower'\u001b[0m\u001b[0;34m]\u001b[0m \u001b[0;34m==\u001b[0m \u001b[0mflowers\u001b[0m\u001b[0;34m[\u001b[0m\u001b[0;36m0\u001b[0m\u001b[0;34m]\u001b[0m\u001b[0;34m]\u001b[0m\u001b[0;34m\u001b[0m\u001b[0;34m\u001b[0m\u001b[0m\n\u001b[0m\u001b[1;32m     13\u001b[0m \u001b[0mversicolor\u001b[0m \u001b[0;34m=\u001b[0m \u001b[0miris_df\u001b[0m\u001b[0;34m[\u001b[0m\u001b[0miris_df\u001b[0m\u001b[0;34m[\u001b[0m\u001b[0;34m'flower'\u001b[0m\u001b[0;34m]\u001b[0m \u001b[0;34m==\u001b[0m \u001b[0mflowers\u001b[0m\u001b[0;34m[\u001b[0m\u001b[0;36m1\u001b[0m\u001b[0;34m]\u001b[0m\u001b[0;34m]\u001b[0m\u001b[0;34m\u001b[0m\u001b[0;34m\u001b[0m\u001b[0m\n\u001b[1;32m     14\u001b[0m \u001b[0mvirginica\u001b[0m \u001b[0;34m=\u001b[0m \u001b[0miris_df\u001b[0m\u001b[0;34m[\u001b[0m\u001b[0miris_df\u001b[0m\u001b[0;34m[\u001b[0m\u001b[0;34m'flower'\u001b[0m\u001b[0;34m]\u001b[0m \u001b[0;34m==\u001b[0m \u001b[0mflowers\u001b[0m\u001b[0;34m[\u001b[0m\u001b[0;36m2\u001b[0m\u001b[0;34m]\u001b[0m\u001b[0;34m]\u001b[0m\u001b[0;34m\u001b[0m\u001b[0;34m\u001b[0m\u001b[0m\n",
            "\u001b[0;31mNameError\u001b[0m: name 'flowers' is not defined"
          ]
        }
      ]
    },
    {
      "cell_type": "markdown",
      "metadata": {
        "id": "S9Dxc-Dq7h1D",
        "colab_type": "text"
      },
      "source": [
        "(c) Pelo Naive Bayes, qual classe o novo dado deve estar?"
      ]
    },
    {
      "cell_type": "code",
      "metadata": {
        "id": "xslXV_fV7m1P",
        "colab_type": "code",
        "colab": {
          "base_uri": "https://localhost:8080/",
          "height": 119
        },
        "outputId": "6ef089cf-7a94-419f-a94a-a78c56c7e3c9"
      },
      "source": [
        "import numpy as np # linear algebra\n",
        "import pandas as pd # data processing, CSV file I/O (e.g. pd.read_csv)\n",
        "from sklearn.naive_bayes import GaussianNB\n",
        "from sklearn import model_selection\n",
        "from sklearn.model_selection import train_test_split\n",
        "from sklearn.metrics import classification_report\n",
        "from sklearn.metrics import confusion_matrix\n",
        "from sklearn.metrics import accuracy_score\n",
        "from sklearn.feature_extraction.text import CountVectorizer\n",
        "from sklearn.feature_extraction.text import TfidfTransformer\n",
        "\n",
        "ds_iris.flower.replace(['Iris-setosa', 'Iris-versicolor', 'Iris-virginica'], [1, 2, 3], inplace=True)\n",
        "\n",
        "#Initialize Gaussian Naive Bayes\n",
        "clf = GaussianNB()\n",
        "\n",
        "# Split-out validation dataset\n",
        "array = ds_iris.values\n",
        "\n",
        "X = array[:,0:4]\n",
        "Y = array[:,4]\n",
        "\n",
        "# One-third of data as a part of test set\n",
        "validation_size = 0.33\n",
        "\n",
        "seed = 7\n",
        "X_train, X_validation, Y_train, Y_validation = model_selection.train_test_split(X, Y, test_size=validation_size, random_state=seed)\n",
        "\n",
        "\n",
        "#Fitting the training set\n",
        "clf.fit(X_train, Y_train) \n",
        "\n",
        "#Predicting for the Test Set\n",
        "pred_clf = clf.predict(X_validation)\n",
        "\n",
        "count_vect = CountVectorizer()\n",
        "\n",
        "predictionData = np.array([[4.8, 3.1, 1.5, 0.2]])\n",
        "resultado =clf.predict(predictionData)\n",
        "\n",
        "print(\" --------------------\")\n",
        "print(\"1: Iris-setosa\")\n",
        "print(\"2: Iris-versicolor\" )\n",
        "print(\"3: Iris-virginica \\n\")\n",
        "\n",
        "print(\"Resultado da Predição: \",resultado)"
      ],
      "execution_count": null,
      "outputs": [
        {
          "output_type": "stream",
          "text": [
            " --------------------\n",
            "1: Iris-setosa\n",
            "2: Iris-versicolor\n",
            "3: Iris-virginica \n",
            "\n",
            "Resultado da Predição:  [1.]\n"
          ],
          "name": "stdout"
        }
      ]
    },
    {
      "cell_type": "markdown",
      "metadata": {
        "id": "mrAz9Kn07osl",
        "colab_type": "text"
      },
      "source": [
        "**4) Para os dados de Balança, considere as questões seguintes:**"
      ]
    },
    {
      "cell_type": "code",
      "metadata": {
        "id": "5SozJ_v1vNNl",
        "colab_type": "code",
        "colab": {
          "base_uri": "https://localhost:8080/",
          "height": 204
        },
        "outputId": "636523e3-729f-439d-e5df-8beef4724e50"
      },
      "source": [
        "#Realizando as importações\n",
        "import pandas as pd\n",
        "import numpy as np\n",
        "import requests\n",
        "from sklearn.model_selection import train_test_split\n",
        "from sklearn.neural_network import MLPClassifier\n",
        "from sklearn import svm\n",
        "\n",
        "\n",
        "#Criando o dataset:\n",
        "urlBalanca = 'https://raw.githubusercontent.com/flaviohahn/ApMaquina/master/balance_scale_dataset.csv'\n",
        "data = pd.read_csv(urlBalanca)\n",
        "data.head(5)"
      ],
      "execution_count": null,
      "outputs": [
        {
          "output_type": "execute_result",
          "data": {
            "text/html": [
              "<div>\n",
              "<style scoped>\n",
              "    .dataframe tbody tr th:only-of-type {\n",
              "        vertical-align: middle;\n",
              "    }\n",
              "\n",
              "    .dataframe tbody tr th {\n",
              "        vertical-align: top;\n",
              "    }\n",
              "\n",
              "    .dataframe thead th {\n",
              "        text-align: right;\n",
              "    }\n",
              "</style>\n",
              "<table border=\"1\" class=\"dataframe\">\n",
              "  <thead>\n",
              "    <tr style=\"text-align: right;\">\n",
              "      <th></th>\n",
              "      <th>left_weight</th>\n",
              "      <th>left_distance</th>\n",
              "      <th>right_weight</th>\n",
              "      <th>right_distance</th>\n",
              "      <th>balance</th>\n",
              "    </tr>\n",
              "  </thead>\n",
              "  <tbody>\n",
              "    <tr>\n",
              "      <th>0</th>\n",
              "      <td>1</td>\n",
              "      <td>1</td>\n",
              "      <td>1</td>\n",
              "      <td>1</td>\n",
              "      <td>B</td>\n",
              "    </tr>\n",
              "    <tr>\n",
              "      <th>1</th>\n",
              "      <td>1</td>\n",
              "      <td>1</td>\n",
              "      <td>1</td>\n",
              "      <td>2</td>\n",
              "      <td>R</td>\n",
              "    </tr>\n",
              "    <tr>\n",
              "      <th>2</th>\n",
              "      <td>1</td>\n",
              "      <td>1</td>\n",
              "      <td>1</td>\n",
              "      <td>3</td>\n",
              "      <td>R</td>\n",
              "    </tr>\n",
              "    <tr>\n",
              "      <th>3</th>\n",
              "      <td>1</td>\n",
              "      <td>1</td>\n",
              "      <td>1</td>\n",
              "      <td>4</td>\n",
              "      <td>R</td>\n",
              "    </tr>\n",
              "    <tr>\n",
              "      <th>4</th>\n",
              "      <td>1</td>\n",
              "      <td>1</td>\n",
              "      <td>1</td>\n",
              "      <td>5</td>\n",
              "      <td>R</td>\n",
              "    </tr>\n",
              "  </tbody>\n",
              "</table>\n",
              "</div>"
            ],
            "text/plain": [
              "   left_weight  left_distance  right_weight  right_distance balance\n",
              "0            1              1             1               1       B\n",
              "1            1              1             1               2       R\n",
              "2            1              1             1               3       R\n",
              "3            1              1             1               4       R\n",
              "4            1              1             1               5       R"
            ]
          },
          "metadata": {
            "tags": []
          },
          "execution_count": 8
        }
      ]
    },
    {
      "cell_type": "markdown",
      "metadata": {
        "id": "0u9LZT1-7sDt",
        "colab_type": "text"
      },
      "source": [
        "A) Sugira uma rede neural para classificar (para 3 grupos) e explica as arquitetura e aprendizado (números de entradas, saídas, algoritmos de treinamento, etc )."
      ]
    },
    {
      "cell_type": "code",
      "metadata": {
        "id": "SZxcW6DicJ11",
        "colab_type": "code",
        "colab": {
          "base_uri": "https://localhost:8080/",
          "height": 119
        },
        "outputId": "6485551d-0c6f-4cbc-e0e6-1c39fe4c9250"
      },
      "source": [
        "data.count() # determina a quantidade de dados presente em cada classe"
      ],
      "execution_count": null,
      "outputs": [
        {
          "output_type": "execute_result",
          "data": {
            "text/plain": [
              "left_weight       625\n",
              "left_distance     625\n",
              "right_weight      625\n",
              "right_distance    625\n",
              "balance           625\n",
              "dtype: int64"
            ]
          },
          "metadata": {
            "tags": []
          },
          "execution_count": 15
        }
      ]
    },
    {
      "cell_type": "markdown",
      "metadata": {
        "id": "QFowIftQe2uB",
        "colab_type": "text"
      },
      "source": [
        ""
      ]
    },
    {
      "cell_type": "code",
      "metadata": {
        "id": "k1j7Uh5mcscy",
        "colab_type": "code",
        "colab": {}
      },
      "source": [
        "#X determina os dados que serão analisados, dados recebidos do dataset.\n",
        "X = data[['left_weight','left_distance','right_weight', 'right_distance']].values\n",
        "#Y determina o resultado esperado \n",
        "Y = data['balance'].values\n",
        "# separação dos dados em conjunto de treinamento e conjunto de teste, sendo 20% dos dados para teste;\n",
        "X_train, X_test, Y_train, Y_test = train_test_split(X, Y, test_size = 0.2, random_state = 1)\n"
      ],
      "execution_count": null,
      "outputs": []
    },
    {
      "cell_type": "code",
      "metadata": {
        "id": "56TEQr5rd4Cf",
        "colab_type": "code",
        "colab": {
          "base_uri": "https://localhost:8080/",
          "height": 34
        },
        "outputId": "661273a4-2339-4799-d10d-344244925833"
      },
      "source": [
        "#A classificação foi realizada pelo modelo SGD, foi informado o numero de neuronios ocultos (3) e definido o indice de aprendizagem de (0,1).\n",
        "#Também foi definido o numero maximo de interações sendo de 1500.\n",
        "# O esperimento gerou 88% de chances de sucesso.\n",
        "NNclf = MLPClassifier(solver='sgd', hidden_layer_sizes=(3,), learning_rate_init=0.1, activation='logistic', max_iter=1500, random_state=1)\n",
        "score = cross_val_score(NNclf, X, Y, cv = 5)\n",
        "print(\"Cross Validation mean: {}\".format(np.mean(score)))\n"
      ],
      "execution_count": null,
      "outputs": [
        {
          "output_type": "stream",
          "text": [
            "Cross Validation mean: 0.8848\n"
          ],
          "name": "stdout"
        }
      ]
    },
    {
      "cell_type": "markdown",
      "metadata": {
        "id": "gNwYwWlM70qK",
        "colab_type": "text"
      },
      "source": [
        "B) Não considera a classe equilibrada (ignora os objetos de classe equilibrada), usa SVM para classificar os dados."
      ]
    },
    {
      "cell_type": "code",
      "metadata": {
        "id": "cmtPNwxmfA0d",
        "colab_type": "code",
        "colab": {
          "base_uri": "https://localhost:8080/",
          "height": 102
        },
        "outputId": "5f6e6496-ded1-4068-a081-9bcc9f7e32ff"
      },
      "source": [
        "from sklearn.metrics import confusion_matrix\n",
        "X = data[['left_weight','left_distance','right_weight', 'right_distance']].values\n",
        "Y = data['balance'].values\n",
        "X_train, X_test, Y_train, Y_test = train_test_split(X, Y, test_size = 0.2, random_state = 1)\n",
        "\n",
        "svm_clf = svm.SVC(kernel = 'poly')\n",
        "score = cross_val_score(svm_clf, X, Y, cv = 5)\n",
        " \n",
        "print(\"Cross validation mean: {}\".format(np.mean(score)))\n",
        " \n",
        "svm_clf.fit(X_train, Y_train)\n",
        "confusion = confusion_matrix(y_true = Y_test, y_pred = svm_clf.predict(X_test))\n",
        "print('Confusion matrix:')\n",
        "print(confusion)"
      ],
      "execution_count": null,
      "outputs": [
        {
          "output_type": "stream",
          "text": [
            "Cross validation mean: 0.9632\n",
            "Confusion matrix:\n",
            "[[11  0  0]\n",
            " [ 0 57  0]\n",
            " [ 2  0 55]]\n"
          ],
          "name": "stdout"
        }
      ]
    },
    {
      "cell_type": "markdown",
      "metadata": {
        "id": "U5v1E_Zy74rX",
        "colab_type": "text"
      },
      "source": [
        "C) Não considera a classe equilibrada (ignora os objetos de classe equilibrada), usa Naive Bayes para classificar os dados. Compara os resultados com a SVM."
      ]
    },
    {
      "cell_type": "code",
      "metadata": {
        "id": "-T5OgD_agT3B",
        "colab_type": "code",
        "colab": {
          "base_uri": "https://localhost:8080/",
          "height": 102
        },
        "outputId": "3c2ebd85-1e87-4435-db8f-af9ddaeae264"
      },
      "source": [
        "from sklearn.naive_bayes import GaussianNB\n",
        "X = data[['left_weight','left_distance','right_weight', 'right_distance']].values\n",
        "Y = data['balance'].values\n",
        "X_train, X_test, Y_train, Y_test = train_test_split(X, Y, test_size = 0.2, random_state = 1)\n",
        " \n",
        "naive_clf = GaussianNB()\n",
        "score = cross_val_score(naive_clf, X, Y, cv = 5)\n",
        " \n",
        "print(\"Cross Validation mean: {}\".format(np.mean(score)))\n",
        " \n",
        "naive_clf.fit(X_train, Y_train)\n",
        "confusion = confusion_matrix(y_true = Y_test, y_pred = naive_clf.predict(X_test))\n",
        "print('Confusion matrix:')\n",
        "print(confusion)\n"
      ],
      "execution_count": null,
      "outputs": [
        {
          "output_type": "stream",
          "text": [
            "Cross Validation mean: 0.7392\n",
            "Confusion matrix:\n",
            "[[ 0  5  6]\n",
            " [ 0 55  2]\n",
            " [ 0  3 54]]\n"
          ],
          "name": "stdout"
        }
      ]
    },
    {
      "cell_type": "markdown",
      "metadata": {
        "id": "Yv-hX4za78TS",
        "colab_type": "text"
      },
      "source": [
        "**5) Considere o conjunto de treinamento, hipotético, abaixo, referente à “condição de obesidade”, apresentado a seguir, contendo um conjunto de 8 exemplos, com 4 atributos e um atributo classificador. Considere ainda os algoritmos para geração de árvores de decisão ID3 e C4.5, e o algoritmo PRISM para construção de regras de classificação, tais como vistos na disciplina AM. Use tais algoritmos para construir, manualmente, as respectivas árvores de decisão completas (em seguida mostrando as regras derivadas das árvores ID3 e C4.5) e as regras produzidas pela execução do PRISM. Mostre o passo a passo do processo de construção das árvores (via ID3 e C4.5) e das regras de classificação (via PRISM), apresentando os cálculos envolvidos, critério e justificativa de escolha para cada atributo candidato a ser raiz de árvore (e cada subárvore), em cada momento. Após a árvore ser construída, extraia e apresente as regras correspondentes às árvores de decisão construídas\n",
        "(com ID3 e C4.5). Ao final, faça uma discussão comparativa, considerando critérios técnicos de sua livre escolha, entre os resultados obtidos pelos 3 classificadores.**\n",
        "\n",
        "Escolha uma biblioteca/pacote de AM de sua preferência (Scikit Learn, Weka,\n",
        "R, . . . ) e rode os 3 algoritmos (entregando as soluções obtidas na implementação), verificando se os resultados das regras coincidem com os produzidos manualmente."
      ]
    },
    {
      "cell_type": "code",
      "metadata": {
        "id": "2J3HIty1rdL1",
        "colab_type": "code",
        "colab": {
          "base_uri": "https://localhost:8080/",
          "height": 297
        },
        "outputId": "2cee9907-a224-4202-ab4d-4fe9935ab91f"
      },
      "source": [
        "#Realizando as importações\n",
        "import pandas as pd\n",
        "import numpy as np\n",
        "import requests\n",
        "from sklearn.model_selection import train_test_split\n",
        "from sklearn.neural_network import MLPClassifier\n",
        "from sklearn import svm\n",
        "\n",
        "\n",
        "#Criando o dataset:\n",
        "urlCinco = 'https://raw.githubusercontent.com/flaviohahn/ApMaquina/master/am_quest_5.csv'\n",
        "dataComida = pd.read_csv(urlCinco, sep=';')\n",
        "dataComida.head(9)"
      ],
      "execution_count": null,
      "outputs": [
        {
          "output_type": "execute_result",
          "data": {
            "text/html": [
              "<div>\n",
              "<style scoped>\n",
              "    .dataframe tbody tr th:only-of-type {\n",
              "        vertical-align: middle;\n",
              "    }\n",
              "\n",
              "    .dataframe tbody tr th {\n",
              "        vertical-align: top;\n",
              "    }\n",
              "\n",
              "    .dataframe thead th {\n",
              "        text-align: right;\n",
              "    }\n",
              "</style>\n",
              "<table border=\"1\" class=\"dataframe\">\n",
              "  <thead>\n",
              "    <tr style=\"text-align: right;\">\n",
              "      <th></th>\n",
              "      <th>Exemplo</th>\n",
              "      <th>Come</th>\n",
              "      <th>Vegetariano</th>\n",
              "      <th>Idade</th>\n",
              "      <th>Diabético</th>\n",
              "      <th>Classe</th>\n",
              "    </tr>\n",
              "  </thead>\n",
              "  <tbody>\n",
              "    <tr>\n",
              "      <th>0</th>\n",
              "      <td>1</td>\n",
              "      <td>pouco</td>\n",
              "      <td>sim</td>\n",
              "      <td>velho</td>\n",
              "      <td>sim</td>\n",
              "      <td>magro</td>\n",
              "    </tr>\n",
              "    <tr>\n",
              "      <th>1</th>\n",
              "      <td>2</td>\n",
              "      <td>médio</td>\n",
              "      <td>sim</td>\n",
              "      <td>velho</td>\n",
              "      <td>não</td>\n",
              "      <td>magro</td>\n",
              "    </tr>\n",
              "    <tr>\n",
              "      <th>2</th>\n",
              "      <td>3</td>\n",
              "      <td>muito</td>\n",
              "      <td>não</td>\n",
              "      <td>velho</td>\n",
              "      <td>sim</td>\n",
              "      <td>gordo</td>\n",
              "    </tr>\n",
              "    <tr>\n",
              "      <th>3</th>\n",
              "      <td>4</td>\n",
              "      <td>pouco</td>\n",
              "      <td>não</td>\n",
              "      <td>velho</td>\n",
              "      <td>não</td>\n",
              "      <td>magro</td>\n",
              "    </tr>\n",
              "    <tr>\n",
              "      <th>4</th>\n",
              "      <td>5</td>\n",
              "      <td>médio</td>\n",
              "      <td>não</td>\n",
              "      <td>jovem</td>\n",
              "      <td>sim</td>\n",
              "      <td>gordo</td>\n",
              "    </tr>\n",
              "    <tr>\n",
              "      <th>5</th>\n",
              "      <td>6</td>\n",
              "      <td>pouco</td>\n",
              "      <td>sim</td>\n",
              "      <td>jovem</td>\n",
              "      <td>não</td>\n",
              "      <td>magro</td>\n",
              "    </tr>\n",
              "    <tr>\n",
              "      <th>6</th>\n",
              "      <td>7</td>\n",
              "      <td>muito</td>\n",
              "      <td>não</td>\n",
              "      <td>velho</td>\n",
              "      <td>não</td>\n",
              "      <td>gordo</td>\n",
              "    </tr>\n",
              "    <tr>\n",
              "      <th>7</th>\n",
              "      <td>8</td>\n",
              "      <td>médio</td>\n",
              "      <td>não</td>\n",
              "      <td>jovem</td>\n",
              "      <td>sim</td>\n",
              "      <td>gordo</td>\n",
              "    </tr>\n",
              "  </tbody>\n",
              "</table>\n",
              "</div>"
            ],
            "text/plain": [
              "   Exemplo   Come Vegetariano  Idade Diabético Classe\n",
              "0        1  pouco         sim  velho       sim  magro\n",
              "1        2  médio         sim  velho       não  magro\n",
              "2        3  muito         não  velho       sim  gordo\n",
              "3        4  pouco         não  velho       não  magro\n",
              "4        5  médio         não  jovem       sim  gordo\n",
              "5        6  pouco         sim  jovem       não  magro\n",
              "6        7  muito         não  velho       não  gordo\n",
              "7        8  médio         não  jovem       sim  gordo"
            ]
          },
          "metadata": {
            "tags": []
          },
          "execution_count": 6
        }
      ]
    },
    {
      "cell_type": "markdown",
      "metadata": {
        "id": "fEwoUyUQQt-F",
        "colab_type": "text"
      },
      "source": [
        "# **Calculo ID3:**\n",
        "\n",
        "entropia(classe) = -(4/8*log(2)+4/8 + 4/8*log(2)4/8))= -((-0,5)+(-0,5))= **1**\n",
        "\n",
        "entropia(come/magro) = -(3/4*log(2)+3/4 + 1/4*log(2)1/4))= -((-0,31)+(-0,5))= **0,81**\n",
        "\n",
        "entropia(come/gordo) = -(2/4*log(2)+2/4 + 2/4*log(2)2/4))= -((-0,5)+(-0,5))= **1**\n",
        "\n",
        "GI(come) = 1-(4/8*0,81+4/8*1)=**0,095**\n",
        "\n",
        "entropia(vegetariano/magro) = -(3/4*log(2)+3/4 + 1/4*log(2)1/4))= -((-0,31)+(-0,5))= **0,81**\n",
        "\n",
        "entropia(vegetariano/gordo) = -(4/4*log(2)+4/4)= 0\n",
        "\n",
        "GI(vegetariano) = 1-(4/8*0,81+4/8*0)=**0,595**\n",
        "\n",
        "entropia(idade/magro) = -(1/4*log(2)+1/4 + 3/4*log(2)3/4))= -((-0,5)+(-0,31))= **0,81**\n",
        "\n",
        "entropia(idade/gordo) = -(2/4*log(2)+2/4 + 2/4*log(2)2/4))= -((-0,5)+(-0,5))= **1**\n",
        "\n",
        "GI(vegetariano) = 1-(4/8*0,81+4/8*1)=**0,095**\n",
        "\n",
        "entropia(diabetico/gordo) = -(1/4*log(2)+1/4 + 3/4*log(2)3/4))= -((-0,5)+(-0,31))= **0,81**\n",
        "\n",
        "entropia(diabetico/magro) = -(1/4*log(2)+1/4 + 3/4*log(2)3/4))= -((-0,5)+(-0,31))= **0,81**\n",
        "\n",
        "\n",
        "GI(vegetariano) = 1-(4/8*0,81+4/8*0,81)=**0,19**\n",
        "\n",
        "![image.png](data:image/png;base64,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)"
      ]
    },
    {
      "cell_type": "markdown",
      "metadata": {
        "id": "IbEbW0yf_bF4",
        "colab_type": "text"
      },
      "source": [
        "# **arquivo arff**\n",
        "\n",
        "@relation am_quest_5\n",
        "\n",
        "@attribute Come {pouco,medio,muito}\n",
        "@attribute Vegetariano {sim,nao}\n",
        "@attribute Idade {jovem,velho}\n",
        "@attribute Diabetico {sim,sao}\n",
        "@attribute Classe {magro,gordo}\n",
        "\n",
        "@data\n",
        "pouco,sim,velho,sim,magro\n",
        "medio,sim,velho,sao,magro\n",
        "muito,nao,velho,sim,gordo\n",
        "pouco,nao,velho,sao,magro\n",
        "medio,nao,jovem,sim,gordo\n",
        "pouco,sim,jovem,sao,magro\n",
        "muito,nao,velho,sao,gordo\n",
        "medio,nao,jovem,sim,gordo\n"
      ]
    },
    {
      "cell_type": "markdown",
      "metadata": {
        "id": "OC1qZvbQ-Yc7",
        "colab_type": "text"
      },
      "source": [
        "# **ID3 com Weka**\n",
        "\n",
        "=== Run information ===\n",
        "\n",
        "Scheme:       weka.classifiers.trees.Id3 \n",
        "Relation:     am_quest_5\n",
        "Instances:    8\n",
        "Attributes:   5\n",
        "              Come\n",
        "              Vegetariano\n",
        "              Idade\n",
        "              Diabetico\n",
        "              Classe\n",
        "Test mode:    evaluate on training data\n",
        "\n",
        "=== Classifier model (full training set) ===\n",
        "\n",
        "Id3\n",
        "\n",
        "\n",
        "Come = pouco: magro\n",
        "Come = medio\n",
        "|  Vegetariano = sim: magro\n",
        "|  Vegetariano = nao: gordo\n",
        "Come = muito: gordo\n",
        "\n",
        "Time taken to build model: 0 seconds\n",
        "\n",
        "=== Evaluation on training set ===\n",
        "\n",
        "Time taken to test model on training data: 0 seconds\n",
        "\n",
        "=== Summary ===\n",
        "\n",
        "Correctly Classified Instances           8              100      %\n",
        "Incorrectly Classified Instances         0                0      %\n",
        "Kappa statistic                          1     \n",
        "Mean absolute error                      0     \n",
        "Root mean squared error                  0     \n",
        "Relative absolute error                  0      %\n",
        "Root relative squared error              0      %\n",
        "Total Number of Instances                8     \n",
        "\n",
        "=== Detailed Accuracy By Class ===\n",
        "\n",
        "                 TP Rate  FP Rate  Precision  Recall   F-Measure  MCC      ROC Area  PRC Area  Class\n",
        "                 1,000    0,000    1,000      1,000    1,000      1,000    1,000     1,000     magro\n",
        "                 1,000    0,000    1,000      1,000    1,000      1,000    1,000     1,000     gordo\n",
        "Weighted Avg.    1,000    0,000    1,000      1,000    1,000      1,000    1,000     1,000     \n",
        "\n",
        "=== Confusion Matrix ===\n",
        "\n",
        " a b   <-- classified as\n",
        "\n",
        " 4 0 | a = magro\n",
        " \n",
        " 0 4 | b = gordo\n",
        "\n"
      ]
    },
    {
      "cell_type": "markdown",
      "metadata": {
        "id": "xmbBgWgd5vp2",
        "colab_type": "text"
      },
      "source": [
        "# **C4.5 com Weka**\n",
        "\n",
        "=== Run information ===\n",
        "\n",
        "Scheme:       weka.classifiers.trees.J48 -R -N 3 -Q 1 -M 2\n",
        "Relation:     am_quest_5\n",
        "Instances:    8\n",
        "Attributes:   5\n",
        "              Come\n",
        "              Vegetariano\n",
        "              Idade\n",
        "              DiabÃ©tico\n",
        "              Classe\n",
        "Test mode:    evaluate on training data\n",
        "\n",
        "=== Classifier model (full training set) ===\n",
        "\n",
        "J48 pruned tree\n",
        "------------------\n",
        ": magro (6.0/3.0)\n",
        "\n",
        "Number of Leaves  : \t1\n",
        "\n",
        "Size of the tree : \t1\n",
        "\n",
        "\n",
        "Time taken to build model: 0.01 seconds\n",
        "\n",
        "=== Evaluation on training set ===\n",
        "\n",
        "Time taken to test model on training data: 0.01 seconds\n",
        "\n",
        "=== Summary ===\n",
        "\n",
        "Correctly Classified Instances           4               50      %\n",
        "Incorrectly Classified Instances         4               50      %\n",
        "Kappa statistic                          0     \n",
        "Mean absolute error                      0.5   \n",
        "Root mean squared error                  0.5   \n",
        "Relative absolute error                100      %\n",
        "Root relative squared error            100      %\n",
        "Total Number of Instances                8     \n",
        "\n",
        "=== Detailed Accuracy By Class ===\n",
        "\n",
        "                 TP Rate  FP Rate  Precision  Recall   F-Measure  MCC      ROC Area  PRC Area  Class\n",
        "                 1,000    1,000    0,500      1,000    0,667      ?        0,500     0,500     magro\n",
        "                 0,000    0,000    ?          0,000    ?          ?        0,500     0,500     gordo\n",
        "Weighted Avg.    0,500    0,500    ?          0,500    ?          ?        0,500     0,500     \n",
        "\n",
        "=== Confusion Matrix ===\n",
        "\n",
        " a b   <-- classified as\n",
        "\n",
        " 4 0 | a = magro\n",
        "\n",
        " 4 0 | b = gordo\n",
        "\n"
      ]
    },
    {
      "cell_type": "markdown",
      "metadata": {
        "id": "6TKmUNmH_Hg-",
        "colab_type": "text"
      },
      "source": [
        "# **Classificação com Prism usando Weka**\n",
        "\n",
        "=== Run information ===\n",
        "\n",
        "Scheme:       weka.classifiers.rules.Prism \n",
        "Relation:     am_quest_5\n",
        "Instances:    8\n",
        "Attributes:   5\n",
        "              Come\n",
        "              Vegetariano\n",
        "              Idade\n",
        "              Diabetico\n",
        "              Classe\n",
        "Test mode:    evaluate on training data\n",
        "\n",
        "=== Classifier model (full training set) ===\n",
        "\n",
        "Prism rules\n",
        "----------\n",
        "If Come = pouco then magro\n",
        "If Vegetariano = sim then magro\n",
        "If Come = muito then gordo\n",
        "If Come = medio\n",
        "   and Vegetariano = nao then gordo\n",
        "\n",
        "\n",
        "Time taken to build model: 0 seconds\n",
        "\n",
        "=== Evaluation on training set ===\n",
        "\n",
        "Time taken to test model on training data: 0 seconds\n",
        "\n",
        "=== Summary ===\n",
        "\n",
        "Correctly Classified Instances           8              100      %\n",
        "Incorrectly Classified Instances         0                0      %\n",
        "Kappa statistic                          1     \n",
        "Mean absolute error                      0     \n",
        "Root mean squared error                  0     \n",
        "Relative absolute error                  0      %\n",
        "Root relative squared error              0      %\n",
        "Total Number of Instances                8     \n",
        "\n",
        "=== Detailed Accuracy By Class ===\n",
        "\n",
        "                 TP Rate  FP Rate  Precision  Recall   F-Measure  MCC      ROC Area  PRC Area  Class\n",
        "                 1,000    0,000    1,000      1,000    1,000      1,000    1,000     1,000     magro\n",
        "                 1,000    0,000    1,000      1,000    1,000      1,000    1,000     1,000     gordo\n",
        "Weighted Avg.    1,000    0,000    1,000      1,000    1,000      1,000    1,000     1,000     \n",
        "\n",
        "=== Confusion Matrix ===\n",
        "\n",
        " a b   <-- classified as\n",
        "\n",
        " 4 0 | a = magro\n",
        " \n",
        " 0 4 | b = gordo\n"
      ]
    },
    {
      "cell_type": "markdown",
      "metadata": {
        "id": "84WllCWP8FJi",
        "colab_type": "text"
      },
      "source": [
        ""
      ]
    },
    {
      "cell_type": "markdown",
      "metadata": {
        "id": "O02zIXBI8Moq",
        "colab_type": "text"
      },
      "source": [
        "**6) )Mostre, com a ajuda de um conjunto de dados, 3 limitações (por exemplo:\n",
        "Lidar com algum tipo de overfitting, . . . ) presentes no algoritmo ID3, explicando-as e demonstrando como tais limitações podem ser resolvidas com o algoritmo C4.5. No mais, comprove suas respostas, demonstrando-as na prática com a execução do conjunto de treinamento em uma biblioteca/pacote de AM de sua preferência (Scikit Learn, Weka, R, . . . ), entregando a solução implementada**"
      ]
    },
    {
      "cell_type": "markdown",
      "metadata": {
        "id": "PpLNVqZ-BXuT",
        "colab_type": "text"
      },
      "source": [
        "# **ID3**\n",
        "\n",
        "A principal limitação do ID3 é que ele só lida com atributos categóricos não-ordinais, não sendo possível apresentar a ele conjuntos de dados com atributos contínuos, por exemplo. Nesse caso, os atributos contínuos devem ser previamente discretizados. \n",
        "\n",
        "ID3 também não apresenta nenhuma forma para tratar valores desconhecidos, ou seja, todos os exemplos do conjunto de treinamento devem ter valores conhecidos para todos os seus atributos.\n",
        "\n",
        "Uma limitação que também pode ser citada pelo algoritmo é o fato do mesmo só consegue lidar com atributos considerados não-ordinais, atributos contínuos não são tolerados e o único meio de contornar isso é discretizando os valores. Na prática, os conjuntos de dados possuem muitos valores desconhecidos. \n",
        "\n",
        "Para se utilizar o ID3 é necessário gastar um bom tempo com pré-processamento dos dados. Também é preciso evitar problemas com atributos com custo diferenciado.\n",
        "\n",
        "Somado a isso, o ID3 também não apresenta nenhum método de pós-poda, o que\n",
        "poderia amenizar esse problema de árvores mais complexas\n"
      ]
    },
    {
      "cell_type": "markdown",
      "metadata": {
        "id": "S9_kiED1BqYZ",
        "colab_type": "text"
      },
      "source": [
        "# **C4.5**\n",
        "\n",
        "O C4.5 é capaz de lidar com valores não-ordinários estabelecendo um limiar e dividindo os valores de forma binária. \n",
        "\n",
        "Trata valores desconhecidos.\n",
        "\n",
        "Utiliza a medida de razão de ganho para selecionar o atributo que melhor\n",
        "divide os exemplos\n",
        "\n",
        "Lida com problemas em que os atributos possuem custos diferenciados;\n",
        "\n",
        "Apresenta um método de pós-poda das árvores geradas\n"
      ]
    },
    {
      "cell_type": "markdown",
      "metadata": {
        "id": "k9sGo-OmEJtr",
        "colab_type": "text"
      },
      "source": [
        "# **Entregando uma solução com Weka**\n",
        "\n",
        "Para exemplificar, utilizamos os dados do dataset íris.\n",
        "\n",
        "Em execução, o algoritmo ID3 não pode ser executado pois não ouve o tratamento dos dados previamente. Enquanto o C4.5 rodou de forma tranquila, gerando a seguinte árvore de decisão:\n"
      ]
    },
    {
      "cell_type": "markdown",
      "metadata": {
        "id": "otMGvbZJEonK",
        "colab_type": "text"
      },
      "source": [
        "=== Run information ===\n",
        "\n",
        "Scheme:       weka.classifiers.trees.J48 -C 0.25 -M 2\n",
        "Relation:     iris\n",
        "Instances:    150\n",
        "Attributes:   5\n",
        "              sepallength\n",
        "              sepalwidth\n",
        "              petallength\n",
        "              petalwidth\n",
        "              class\n",
        "Test mode:    evaluate on training data\n",
        "\n",
        "=== Classifier model (full training set) ===\n",
        "\n",
        "J48 pruned tree\n",
        "------------------\n",
        "\n",
        "petalwidth <= 0.6: Iris-setosa (50.0)\n",
        "petalwidth > 0.6\n",
        "|   petalwidth <= 1.7\n",
        "|   |   petallength <= 4.9: Iris-versicolor (48.0/1.0)\n",
        "|   |   petallength > 4.9\n",
        "|   |   |   petalwidth <= 1.5: Iris-virginica (3.0)\n",
        "|   |   |   petalwidth > 1.5: Iris-versicolor (3.0/1.0)\n",
        "|   petalwidth > 1.7: Iris-virginica (46.0/1.0)\n",
        "\n",
        "Number of Leaves  : \t5\n",
        "\n",
        "Size of the tree : \t9\n",
        "\n",
        "\n",
        "Time taken to build model: 0.02 seconds\n",
        "\n",
        "=== Evaluation on training set ===\n",
        "\n",
        "Time taken to test model on training data: 0.01 seconds\n",
        "\n",
        "=== Summary ===\n",
        "\n",
        "Correctly Classified Instances         147               98      %\n",
        "Incorrectly Classified Instances         3                2      %\n",
        "Kappa statistic                          0.97  \n",
        "Mean absolute error                      0.0233\n",
        "Root mean squared error                  0.108 \n",
        "Relative absolute error                  5.2482 %\n",
        "Root relative squared error             22.9089 %\n",
        "Total Number of Instances              150     \n",
        "\n",
        "=== Detailed Accuracy By Class ===\n",
        "\n",
        "                 TP Rate  FP Rate  Precision  Recall   F-Measure  MCC      ROC Area  PRC Area  Class\n",
        "                 1,000    0,000    1,000      1,000    1,000      1,000    1,000     1,000     Iris-setosa\n",
        "                 0,980    0,020    0,961      0,980    0,970      0,955    0,990     0,969     Iris-versicolor\n",
        "                 0,960    0,010    0,980      0,960    0,970      0,955    0,990     0,970     Iris-virginica\n",
        "Weighted Avg.    0,980    0,010    0,980      0,980    0,980      0,970    0,993     0,980     \n",
        "\n",
        "=== Confusion Matrix ===\n",
        "\n",
        "  a  b  c   <-- classified as\n",
        "\n",
        " 50  0  0 |  a = Iris-setosa\n",
        "\n",
        "  0 49  1 |  b = Iris-versicolor\n",
        "  \n",
        "  0  2 48 |  c = Iris-virginica\n",
        "\n"
      ]
    },
    {
      "cell_type": "markdown",
      "metadata": {
        "id": "i8hcoTOIFj7E",
        "colab_type": "text"
      },
      "source": [
        "![image.png](data:image/png;base64,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)"
      ]
    },
    {
      "cell_type": "markdown",
      "metadata": {
        "id": "iVv42uFU8vbM",
        "colab_type": "text"
      },
      "source": [
        "**7) Julgue, com argumentos técnicos e com demonstração experimental, as seguintes afirmações quanto às suas possíveis veracidades:**"
      ]
    },
    {
      "cell_type": "markdown",
      "metadata": {
        "id": "U-YLzRyt9FZl",
        "colab_type": "text"
      },
      "source": [
        "Na justificativa, utilize um conjunto de dados como exemplo."
      ]
    },
    {
      "cell_type": "markdown",
      "metadata": {
        "id": "vjYfP_3O81v7",
        "colab_type": "text"
      },
      "source": [
        "A) Os algoritmos de indução de árvores de decisão são robustos quanto à presença\n",
        "de ruído, num contexto de overfitting."
      ]
    },
    {
      "cell_type": "markdown",
      "metadata": {
        "id": "7MKoq0bsv3GT",
        "colab_type": "text"
      },
      "source": [
        "# Afirmação verdadeira. \n",
        "\n",
        "Algoritmos como o ID3, que possuem um espaço de busca baseados em estatística são considerados robustos a dados ruidosos. Deve-se destacar que há uma preferência por árvores menores.\n"
      ]
    },
    {
      "cell_type": "markdown",
      "metadata": {
        "id": "8j2Bj1mv8-XL",
        "colab_type": "text"
      },
      "source": [
        "B) A presença de atributos redundantes (atributo fortemente relacionado a outro)\n",
        "em um conjunto de dados para treinamento não afeta adversamente a precisão do modelo construído com indução de ADs."
      ]
    },
    {
      "cell_type": "markdown",
      "metadata": {
        "id": "J-DCOlsuvjDX",
        "colab_type": "text"
      },
      "source": [
        "# Afirmação falsa. \n",
        "\n",
        "Um dos principais desafios enfrentados por algoritmos de indução é a falta de exemplos para treinamento pois prejudica diretamente o poder de identificação e generalização da árvore resultante."
      ]
    },
    {
      "cell_type": "code",
      "metadata": {
        "id": "OZIVgLNj203l",
        "colab_type": "code",
        "colab": {
          "base_uri": "https://localhost:8080/",
          "height": 328
        },
        "outputId": "8d8c727f-47b8-4085-ef03-b000d74a73b0"
      },
      "source": [
        "import numpy as np\n",
        "import pandas as pd\n",
        "from sklearn.tree import DecisionTreeClassifier\n",
        "from sklearn.preprocessing import LabelEncoder\n",
        "from sklearn.model_selection import train_test_split\n",
        "urlSeteB = 'https://raw.githubusercontent.com/flaviohahn/ApMaquina/master/temp2.csv'\n",
        "dataset=pd.read_csv(urlSeteB, sep=',')\n",
        "dataset.head(9)"
      ],
      "execution_count": null,
      "outputs": [
        {
          "output_type": "execute_result",
          "data": {
            "text/html": [
              "<div>\n",
              "<style scoped>\n",
              "    .dataframe tbody tr th:only-of-type {\n",
              "        vertical-align: middle;\n",
              "    }\n",
              "\n",
              "    .dataframe tbody tr th {\n",
              "        vertical-align: top;\n",
              "    }\n",
              "\n",
              "    .dataframe thead th {\n",
              "        text-align: right;\n",
              "    }\n",
              "</style>\n",
              "<table border=\"1\" class=\"dataframe\">\n",
              "  <thead>\n",
              "    <tr style=\"text-align: right;\">\n",
              "      <th></th>\n",
              "      <th>Unnamed: 0</th>\n",
              "      <th>Outlook</th>\n",
              "      <th>Temp</th>\n",
              "      <th>Humidity</th>\n",
              "      <th>Windy</th>\n",
              "      <th>Play Golf</th>\n",
              "    </tr>\n",
              "  </thead>\n",
              "  <tbody>\n",
              "    <tr>\n",
              "      <th>0</th>\n",
              "      <td>0</td>\n",
              "      <td>?</td>\n",
              "      <td>Hot</td>\n",
              "      <td>High</td>\n",
              "      <td>False</td>\n",
              "      <td>No</td>\n",
              "    </tr>\n",
              "    <tr>\n",
              "      <th>1</th>\n",
              "      <td>1</td>\n",
              "      <td>Rainy</td>\n",
              "      <td>?</td>\n",
              "      <td>High</td>\n",
              "      <td>True</td>\n",
              "      <td>No</td>\n",
              "    </tr>\n",
              "    <tr>\n",
              "      <th>2</th>\n",
              "      <td>2</td>\n",
              "      <td>Overcast</td>\n",
              "      <td>Hot</td>\n",
              "      <td>High</td>\n",
              "      <td>False</td>\n",
              "      <td>Yes</td>\n",
              "    </tr>\n",
              "    <tr>\n",
              "      <th>3</th>\n",
              "      <td>3</td>\n",
              "      <td>Sunny</td>\n",
              "      <td>Mild</td>\n",
              "      <td>High</td>\n",
              "      <td>False</td>\n",
              "      <td>Yes</td>\n",
              "    </tr>\n",
              "    <tr>\n",
              "      <th>4</th>\n",
              "      <td>4</td>\n",
              "      <td>Sunny</td>\n",
              "      <td>Cool</td>\n",
              "      <td>Normal</td>\n",
              "      <td>False</td>\n",
              "      <td>Yes</td>\n",
              "    </tr>\n",
              "    <tr>\n",
              "      <th>5</th>\n",
              "      <td>5</td>\n",
              "      <td>Sunny</td>\n",
              "      <td>Cool</td>\n",
              "      <td>?</td>\n",
              "      <td>True</td>\n",
              "      <td>No</td>\n",
              "    </tr>\n",
              "    <tr>\n",
              "      <th>6</th>\n",
              "      <td>6</td>\n",
              "      <td>Overcast</td>\n",
              "      <td>Cool</td>\n",
              "      <td>Normal</td>\n",
              "      <td>?</td>\n",
              "      <td>Yes</td>\n",
              "    </tr>\n",
              "    <tr>\n",
              "      <th>7</th>\n",
              "      <td>7</td>\n",
              "      <td>Rainy</td>\n",
              "      <td>Mild</td>\n",
              "      <td>High</td>\n",
              "      <td>False</td>\n",
              "      <td>No</td>\n",
              "    </tr>\n",
              "    <tr>\n",
              "      <th>8</th>\n",
              "      <td>8</td>\n",
              "      <td>Rainy</td>\n",
              "      <td>?</td>\n",
              "      <td>Normal</td>\n",
              "      <td>False</td>\n",
              "      <td>Yes</td>\n",
              "    </tr>\n",
              "  </tbody>\n",
              "</table>\n",
              "</div>"
            ],
            "text/plain": [
              "   Unnamed: 0   Outlook  Temp Humidity  Windy Play Golf\n",
              "0           0         ?   Hot     High  False        No\n",
              "1           1     Rainy     ?     High   True        No\n",
              "2           2  Overcast   Hot     High  False       Yes\n",
              "3           3     Sunny  Mild     High  False       Yes\n",
              "4           4     Sunny  Cool   Normal  False       Yes\n",
              "5           5     Sunny  Cool        ?   True        No\n",
              "6           6  Overcast  Cool   Normal      ?       Yes\n",
              "7           7     Rainy  Mild     High  False        No\n",
              "8           8     Rainy     ?   Normal  False       Yes"
            ]
          },
          "metadata": {
            "tags": []
          },
          "execution_count": 21
        }
      ]
    },
    {
      "cell_type": "code",
      "metadata": {
        "id": "QTp8v48dO24t",
        "colab_type": "code",
        "colab": {
          "base_uri": "https://localhost:8080/",
          "height": 425
        },
        "outputId": "5d76387c-5a5b-4321-94e4-8a3c3bfe6a5f"
      },
      "source": [
        "\n",
        "dataset=pd.DataFrame(data=dataset.iloc[:,1:6].values,columns=[\"outlook\",\"temprature\",\"humdity\",\"windy\",\"play\"])\n",
        "filter = dataset[\"outlook\"]==\"Rainy\"\n",
        "dataset.where(filter).count()\n",
        "dataset_encoded=dataset.iloc[:,0:5]\n",
        "le=LabelEncoder()\n",
        " \n",
        "for i in dataset_encoded:\n",
        "    dataset_encoded[i]=le.fit_transform(dataset_encoded[i])\n",
        " \n",
        "print(dataset_encoded)\n",
        "print(dataset)"
      ],
      "execution_count": null,
      "outputs": [
        {
          "output_type": "error",
          "ename": "TypeError",
          "evalue": "ignored",
          "traceback": [
            "\u001b[0;31m---------------------------------------------------------------------------\u001b[0m",
            "\u001b[0;31mTypeError\u001b[0m                                 Traceback (most recent call last)",
            "\u001b[0;32m/usr/local/lib/python3.6/dist-packages/sklearn/preprocessing/_label.py\u001b[0m in \u001b[0;36m_encode\u001b[0;34m(values, uniques, encode, check_unknown)\u001b[0m\n\u001b[1;32m    112\u001b[0m         \u001b[0;32mtry\u001b[0m\u001b[0;34m:\u001b[0m\u001b[0;34m\u001b[0m\u001b[0;34m\u001b[0m\u001b[0m\n\u001b[0;32m--> 113\u001b[0;31m             \u001b[0mres\u001b[0m \u001b[0;34m=\u001b[0m \u001b[0m_encode_python\u001b[0m\u001b[0;34m(\u001b[0m\u001b[0mvalues\u001b[0m\u001b[0;34m,\u001b[0m \u001b[0muniques\u001b[0m\u001b[0;34m,\u001b[0m \u001b[0mencode\u001b[0m\u001b[0;34m)\u001b[0m\u001b[0;34m\u001b[0m\u001b[0;34m\u001b[0m\u001b[0m\n\u001b[0m\u001b[1;32m    114\u001b[0m         \u001b[0;32mexcept\u001b[0m \u001b[0mTypeError\u001b[0m\u001b[0;34m:\u001b[0m\u001b[0;34m\u001b[0m\u001b[0;34m\u001b[0m\u001b[0m\n",
            "\u001b[0;32m/usr/local/lib/python3.6/dist-packages/sklearn/preprocessing/_label.py\u001b[0m in \u001b[0;36m_encode_python\u001b[0;34m(values, uniques, encode)\u001b[0m\n\u001b[1;32m     60\u001b[0m     \u001b[0;32mif\u001b[0m \u001b[0muniques\u001b[0m \u001b[0;32mis\u001b[0m \u001b[0;32mNone\u001b[0m\u001b[0;34m:\u001b[0m\u001b[0;34m\u001b[0m\u001b[0;34m\u001b[0m\u001b[0m\n\u001b[0;32m---> 61\u001b[0;31m         \u001b[0muniques\u001b[0m \u001b[0;34m=\u001b[0m \u001b[0msorted\u001b[0m\u001b[0;34m(\u001b[0m\u001b[0mset\u001b[0m\u001b[0;34m(\u001b[0m\u001b[0mvalues\u001b[0m\u001b[0;34m)\u001b[0m\u001b[0;34m)\u001b[0m\u001b[0;34m\u001b[0m\u001b[0;34m\u001b[0m\u001b[0m\n\u001b[0m\u001b[1;32m     62\u001b[0m         \u001b[0muniques\u001b[0m \u001b[0;34m=\u001b[0m \u001b[0mnp\u001b[0m\u001b[0;34m.\u001b[0m\u001b[0marray\u001b[0m\u001b[0;34m(\u001b[0m\u001b[0muniques\u001b[0m\u001b[0;34m,\u001b[0m \u001b[0mdtype\u001b[0m\u001b[0;34m=\u001b[0m\u001b[0mvalues\u001b[0m\u001b[0;34m.\u001b[0m\u001b[0mdtype\u001b[0m\u001b[0;34m)\u001b[0m\u001b[0;34m\u001b[0m\u001b[0;34m\u001b[0m\u001b[0m\n",
            "\u001b[0;31mTypeError\u001b[0m: '<' not supported between instances of 'str' and 'float'",
            "\nDuring handling of the above exception, another exception occurred:\n",
            "\u001b[0;31mTypeError\u001b[0m                                 Traceback (most recent call last)",
            "\u001b[0;32m<ipython-input-22-b3ce54ccedce>\u001b[0m in \u001b[0;36m<module>\u001b[0;34m()\u001b[0m\n\u001b[1;32m      7\u001b[0m \u001b[0;34m\u001b[0m\u001b[0m\n\u001b[1;32m      8\u001b[0m \u001b[0;32mfor\u001b[0m \u001b[0mi\u001b[0m \u001b[0;32min\u001b[0m \u001b[0mdataset_encoded\u001b[0m\u001b[0;34m:\u001b[0m\u001b[0;34m\u001b[0m\u001b[0;34m\u001b[0m\u001b[0m\n\u001b[0;32m----> 9\u001b[0;31m     \u001b[0mdataset_encoded\u001b[0m\u001b[0;34m[\u001b[0m\u001b[0mi\u001b[0m\u001b[0;34m]\u001b[0m\u001b[0;34m=\u001b[0m\u001b[0mle\u001b[0m\u001b[0;34m.\u001b[0m\u001b[0mfit_transform\u001b[0m\u001b[0;34m(\u001b[0m\u001b[0mdataset_encoded\u001b[0m\u001b[0;34m[\u001b[0m\u001b[0mi\u001b[0m\u001b[0;34m]\u001b[0m\u001b[0;34m)\u001b[0m\u001b[0;34m\u001b[0m\u001b[0;34m\u001b[0m\u001b[0m\n\u001b[0m\u001b[1;32m     10\u001b[0m \u001b[0;34m\u001b[0m\u001b[0m\n\u001b[1;32m     11\u001b[0m \u001b[0mprint\u001b[0m\u001b[0;34m(\u001b[0m\u001b[0mdataset_encoded\u001b[0m\u001b[0;34m)\u001b[0m\u001b[0;34m\u001b[0m\u001b[0;34m\u001b[0m\u001b[0m\n",
            "\u001b[0;32m/usr/local/lib/python3.6/dist-packages/sklearn/preprocessing/_label.py\u001b[0m in \u001b[0;36mfit_transform\u001b[0;34m(self, y)\u001b[0m\n\u001b[1;32m    254\u001b[0m         \"\"\"\n\u001b[1;32m    255\u001b[0m         \u001b[0my\u001b[0m \u001b[0;34m=\u001b[0m \u001b[0mcolumn_or_1d\u001b[0m\u001b[0;34m(\u001b[0m\u001b[0my\u001b[0m\u001b[0;34m,\u001b[0m \u001b[0mwarn\u001b[0m\u001b[0;34m=\u001b[0m\u001b[0;32mTrue\u001b[0m\u001b[0;34m)\u001b[0m\u001b[0;34m\u001b[0m\u001b[0;34m\u001b[0m\u001b[0m\n\u001b[0;32m--> 256\u001b[0;31m         \u001b[0mself\u001b[0m\u001b[0;34m.\u001b[0m\u001b[0mclasses_\u001b[0m\u001b[0;34m,\u001b[0m \u001b[0my\u001b[0m \u001b[0;34m=\u001b[0m \u001b[0m_encode\u001b[0m\u001b[0;34m(\u001b[0m\u001b[0my\u001b[0m\u001b[0;34m,\u001b[0m \u001b[0mencode\u001b[0m\u001b[0;34m=\u001b[0m\u001b[0;32mTrue\u001b[0m\u001b[0;34m)\u001b[0m\u001b[0;34m\u001b[0m\u001b[0;34m\u001b[0m\u001b[0m\n\u001b[0m\u001b[1;32m    257\u001b[0m         \u001b[0;32mreturn\u001b[0m \u001b[0my\u001b[0m\u001b[0;34m\u001b[0m\u001b[0;34m\u001b[0m\u001b[0m\n\u001b[1;32m    258\u001b[0m \u001b[0;34m\u001b[0m\u001b[0m\n",
            "\u001b[0;32m/usr/local/lib/python3.6/dist-packages/sklearn/preprocessing/_label.py\u001b[0m in \u001b[0;36m_encode\u001b[0;34m(values, uniques, encode, check_unknown)\u001b[0m\n\u001b[1;32m    115\u001b[0m             types = sorted(t.__qualname__\n\u001b[1;32m    116\u001b[0m                            for t in set(type(v) for v in values))\n\u001b[0;32m--> 117\u001b[0;31m             raise TypeError(\"Encoders require their input to be uniformly \"\n\u001b[0m\u001b[1;32m    118\u001b[0m                             f\"strings or numbers. Got {types}\")\n\u001b[1;32m    119\u001b[0m         \u001b[0;32mreturn\u001b[0m \u001b[0mres\u001b[0m\u001b[0;34m\u001b[0m\u001b[0;34m\u001b[0m\u001b[0m\n",
            "\u001b[0;31mTypeError\u001b[0m: Encoders require their input to be uniformly strings or numbers. Got ['float', 'str']"
          ]
        }
      ]
    },
    {
      "cell_type": "markdown",
      "metadata": {
        "id": "35oVQHo69JBo",
        "colab_type": "text"
      },
      "source": [
        "**8) Escolher uma base de dados do repositório UCI e implemente uma solução de comitê bagging, com no mínimo de 3 classificadores. Neste sentido, realize as seguintes atividades: (i) Justifique a escolha da base de dados; (ii) Avalie o desempenho da versão single de cada classificador, para a base de dados escolhida, utilizando uma das métricas já apresentadas no curso; (iii) Avalie o desempenho da versão bagging para cada classificador, para a base de dados escolhida, utilizando uma das métricas já apresentadas no curso; (iv) Faça análise crítica e comparativa entre a versão single e bagging dos classificadores utilizados. Obs.: Para implementação, utilize a linguagem de programação de sua preferência.**"
      ]
    },
    {
      "cell_type": "code",
      "metadata": {
        "id": "_4FqB4yH9Qr3",
        "colab_type": "code",
        "colab": {
          "base_uri": "https://localhost:8080/",
          "height": 870
        },
        "outputId": "93e8d41f-19e8-453f-db43-3f0d6f2c638d"
      },
      "source": [
        "from sklearn import model_selection \n",
        "from sklearn.ensemble import BaggingClassifier \n",
        "from sklearn.tree import DecisionTreeClassifier \n",
        "import pandas as pd \n",
        "  \n",
        "# load the data \n",
        "urlIris = 'https://raw.githubusercontent.com/flaviohahn/ApMaquina/master/iris_dataset.csv'\n",
        "data = pd.read_csv(urlIris)\n",
        "arr = dataframe.values \n",
        "X = arr[:, 0:5] \n",
        "Y = arr[:, 0] \n",
        "  \n",
        "seed = 8\n",
        "kfold = model_selection.KFold(n_splits = 3, \n",
        "                       random_state = seed) \n",
        "  \n",
        "# initialize the base classifier \n",
        "base_cls = DecisionTreeClassifier() \n",
        "  \n",
        "# no. of base classifier \n",
        "num_trees = 100\n",
        "  \n",
        "# bagging classifier \n",
        "model = BaggingClassifier(base_estimator = base_cls, \n",
        "                          n_estimators = num_trees, \n",
        "                          random_state = seed) \n",
        "  \n",
        "results = model_selection.cross_val_score(model, X, Y, cv = kfold) \n",
        "print(\"accuracy :\") \n",
        "print(results.mean()) "
      ],
      "execution_count": 44,
      "outputs": [
        {
          "output_type": "stream",
          "text": [
            "accuracy :\n",
            "nan\n"
          ],
          "name": "stdout"
        },
        {
          "output_type": "stream",
          "text": [
            "/usr/local/lib/python3.6/dist-packages/sklearn/model_selection/_split.py:297: FutureWarning: Setting a random_state has no effect since shuffle is False. This will raise an error in 0.24. You should leave random_state to its default (None), or set shuffle=True.\n",
            "  FutureWarning\n",
            "/usr/local/lib/python3.6/dist-packages/sklearn/model_selection/_validation.py:552: FitFailedWarning: Estimator fit failed. The score on this train-test partition for these parameters will be set to nan. Details: \n",
            "Traceback (most recent call last):\n",
            "  File \"/usr/local/lib/python3.6/dist-packages/sklearn/model_selection/_validation.py\", line 531, in _fit_and_score\n",
            "    estimator.fit(X_train, y_train, **fit_params)\n",
            "  File \"/usr/local/lib/python3.6/dist-packages/sklearn/ensemble/_bagging.py\", line 243, in fit\n",
            "    return self._fit(X, y, self.max_samples, sample_weight=sample_weight)\n",
            "  File \"/usr/local/lib/python3.6/dist-packages/sklearn/ensemble/_bagging.py\", line 291, in _fit\n",
            "    y = self._validate_y(y)\n",
            "  File \"/usr/local/lib/python3.6/dist-packages/sklearn/ensemble/_bagging.py\", line 651, in _validate_y\n",
            "    check_classification_targets(y)\n",
            "  File \"/usr/local/lib/python3.6/dist-packages/sklearn/utils/multiclass.py\", line 172, in check_classification_targets\n",
            "    raise ValueError(\"Unknown label type: %r\" % y_type)\n",
            "ValueError: Unknown label type: 'unknown'\n",
            "\n",
            "  FitFailedWarning)\n",
            "/usr/local/lib/python3.6/dist-packages/sklearn/model_selection/_validation.py:552: FitFailedWarning: Estimator fit failed. The score on this train-test partition for these parameters will be set to nan. Details: \n",
            "Traceback (most recent call last):\n",
            "  File \"/usr/local/lib/python3.6/dist-packages/sklearn/model_selection/_validation.py\", line 531, in _fit_and_score\n",
            "    estimator.fit(X_train, y_train, **fit_params)\n",
            "  File \"/usr/local/lib/python3.6/dist-packages/sklearn/ensemble/_bagging.py\", line 243, in fit\n",
            "    return self._fit(X, y, self.max_samples, sample_weight=sample_weight)\n",
            "  File \"/usr/local/lib/python3.6/dist-packages/sklearn/ensemble/_bagging.py\", line 291, in _fit\n",
            "    y = self._validate_y(y)\n",
            "  File \"/usr/local/lib/python3.6/dist-packages/sklearn/ensemble/_bagging.py\", line 651, in _validate_y\n",
            "    check_classification_targets(y)\n",
            "  File \"/usr/local/lib/python3.6/dist-packages/sklearn/utils/multiclass.py\", line 172, in check_classification_targets\n",
            "    raise ValueError(\"Unknown label type: %r\" % y_type)\n",
            "ValueError: Unknown label type: 'unknown'\n",
            "\n",
            "  FitFailedWarning)\n",
            "/usr/local/lib/python3.6/dist-packages/sklearn/model_selection/_validation.py:552: FitFailedWarning: Estimator fit failed. The score on this train-test partition for these parameters will be set to nan. Details: \n",
            "Traceback (most recent call last):\n",
            "  File \"/usr/local/lib/python3.6/dist-packages/sklearn/model_selection/_validation.py\", line 531, in _fit_and_score\n",
            "    estimator.fit(X_train, y_train, **fit_params)\n",
            "  File \"/usr/local/lib/python3.6/dist-packages/sklearn/ensemble/_bagging.py\", line 243, in fit\n",
            "    return self._fit(X, y, self.max_samples, sample_weight=sample_weight)\n",
            "  File \"/usr/local/lib/python3.6/dist-packages/sklearn/ensemble/_bagging.py\", line 291, in _fit\n",
            "    y = self._validate_y(y)\n",
            "  File \"/usr/local/lib/python3.6/dist-packages/sklearn/ensemble/_bagging.py\", line 651, in _validate_y\n",
            "    check_classification_targets(y)\n",
            "  File \"/usr/local/lib/python3.6/dist-packages/sklearn/utils/multiclass.py\", line 172, in check_classification_targets\n",
            "    raise ValueError(\"Unknown label type: %r\" % y_type)\n",
            "ValueError: Unknown label type: 'unknown'\n",
            "\n",
            "  FitFailedWarning)\n"
          ],
          "name": "stderr"
        }
      ]
    }
  ]
}