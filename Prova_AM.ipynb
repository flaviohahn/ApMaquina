{
  "nbformat": 4,
  "nbformat_minor": 0,
  "metadata": {
    "colab": {
      "name": "Prova_AM.ipynb",
      "provenance": [],
      "authorship_tag": "ABX9TyPE2oGh2u3lI+QocVk4DBzS",
      "include_colab_link": true
    },
    "kernelspec": {
      "name": "python3",
      "display_name": "Python 3"
    }
  },
  "cells": [
    {
      "cell_type": "markdown",
      "metadata": {
        "id": "view-in-github",
        "colab_type": "text"
      },
      "source": [
        "<a href=\"https://colab.research.google.com/github/flaviohahn/ApMaquina/blob/master/Prova_AM.ipynb\" target=\"_parent\"><img src=\"https://colab.research.google.com/assets/colab-badge.svg\" alt=\"Open In Colab\"/></a>"
      ]
    },
    {
      "cell_type": "markdown",
      "metadata": {
        "id": "XS5KeEJg6Gib",
        "colab_type": "text"
      },
      "source": [
        "**UNIVERSIDADE FEDERAL DE ALAGOAS**\n",
        "\n",
        "**INSTITUTO DE COMPUTAÇÃO**\n",
        "\n",
        "**ALUNO:** FLÁVIO OSCAR HAHN\n",
        "\n",
        "**PROFS:** EVANDRO COSTA E XU YANG\n",
        "\n",
        "**CURSO:** APRENDIZAGEM DE MAQUINA\n"
      ]
    },
    {
      "cell_type": "markdown",
      "metadata": {
        "id": "2X3TwJ6T645t",
        "colab_type": "text"
      },
      "source": [
        "**1) Dado os dados de Balança.csv, calcule a matriz de covariança e faça um scatter plot. Baseado na matriz e scatter plot, discuta a independência dos atributos.**"
      ]
    },
    {
      "cell_type": "code",
      "metadata": {
        "id": "RUev0mQo5_E-",
        "colab_type": "code",
        "colab": {}
      },
      "source": [
        ""
      ],
      "execution_count": null,
      "outputs": []
    },
    {
      "cell_type": "markdown",
      "metadata": {
        "id": "MSLMZF_D7ElL",
        "colab_type": "text"
      },
      "source": [
        "**2) Considere uma SVM cujos hiperplanos canônicos sejão H1 : w ˆ x ` b “ 1 e H2 : w ˆ x ` b “ ´1. Demonstre que a maximização da margem de separação dos objetos em relação a w ˆ x ` b “ 0 pode ser obtida pela minimização de }w}.**"
      ]
    },
    {
      "cell_type": "code",
      "metadata": {
        "id": "mlt2Q-3l7Oif",
        "colab_type": "code",
        "colab": {}
      },
      "source": [
        ""
      ],
      "execution_count": null,
      "outputs": []
    },
    {
      "cell_type": "markdown",
      "metadata": {
        "id": "jJFV3eIT7QjC",
        "colab_type": "text"
      },
      "source": [
        "**3) Dado os dados de Iris.csv:**"
      ]
    },
    {
      "cell_type": "code",
      "metadata": {
        "id": "b2KFu3Kz7lGh",
        "colab_type": "code",
        "colab": {}
      },
      "source": [
        ""
      ],
      "execution_count": null,
      "outputs": []
    },
    {
      "cell_type": "markdown",
      "metadata": {
        "id": "54DIXWGS7en6",
        "colab_type": "text"
      },
      "source": [
        "(a) Calcule a probabilidade a priori para cada classe.\n"
      ]
    },
    {
      "cell_type": "code",
      "metadata": {
        "id": "KZhv2HtW7lrx",
        "colab_type": "code",
        "colab": {}
      },
      "source": [
        ""
      ],
      "execution_count": null,
      "outputs": []
    },
    {
      "cell_type": "markdown",
      "metadata": {
        "id": "zOLxTjRZ7giR",
        "colab_type": "text"
      },
      "source": [
        "(b) Para um objeto x “ p4.8, 3.1, 1.5, 0.2q, calcular a verossimilhança.\n"
      ]
    },
    {
      "cell_type": "code",
      "metadata": {
        "id": "mFBgxtDF7mRr",
        "colab_type": "code",
        "colab": {}
      },
      "source": [
        ""
      ],
      "execution_count": null,
      "outputs": []
    },
    {
      "cell_type": "markdown",
      "metadata": {
        "id": "S9Dxc-Dq7h1D",
        "colab_type": "text"
      },
      "source": [
        "(c) Pelo Naive Bayes, qual classe o novo dado deve estar?"
      ]
    },
    {
      "cell_type": "code",
      "metadata": {
        "id": "xslXV_fV7m1P",
        "colab_type": "code",
        "colab": {}
      },
      "source": [
        ""
      ],
      "execution_count": null,
      "outputs": []
    },
    {
      "cell_type": "markdown",
      "metadata": {
        "id": "mrAz9Kn07osl",
        "colab_type": "text"
      },
      "source": [
        "**4) Para os dados de Balança, considere as questões seguintes:**"
      ]
    },
    {
      "cell_type": "markdown",
      "metadata": {
        "id": "0u9LZT1-7sDt",
        "colab_type": "text"
      },
      "source": [
        "A) Sugira uma rede neural para classificar (para 3 grupos) e explica as arquitetura e aprendizado (números de entradas, saídas, algoritmos de treinamento, etc )."
      ]
    },
    {
      "cell_type": "markdown",
      "metadata": {
        "id": "gNwYwWlM70qK",
        "colab_type": "text"
      },
      "source": [
        "B) Não considera a classe equilibrada (ignora os objetos de classe equilibrada), usa SVM para classificar os dados."
      ]
    },
    {
      "cell_type": "markdown",
      "metadata": {
        "id": "U5v1E_Zy74rX",
        "colab_type": "text"
      },
      "source": [
        "C) Não considera a classe equilibrada (ignora os objetos de classe equilibrada), usa Naive Bayes para classificar os dados. Compara os resultados com a SVM."
      ]
    },
    {
      "cell_type": "markdown",
      "metadata": {
        "id": "Yv-hX4za78TS",
        "colab_type": "text"
      },
      "source": [
        "**5) Considere o conjunto de treinamento, hipotético, abaixo, referente à “condição de obesidade”, apresentado a seguir, contendo um conjunto de 8 exemplos, com 4 atributos e um atributo classificador. Considere ainda os algoritmos para geração de árvores de decisão ID3 e C4.5, e o algoritmo PRISM para construção de regras de classificação, tais como vistos na disciplina AM. Use tais algoritmos para construir, manualmente, as respectivas árvores de decisão completas (em seguida mostrando as regras derivadas das árvores ID3 e C4.5) e as regras produzidas pela execução do PRISM. Mostre o passo a passo do processo de construção das árvores (via ID3 e C4.5) e das regras de classificação (via PRISM), apresentando os cálculos envolvidos, critério e justificativa de escolha para cada atributo candidato a ser raiz de árvore (e cada subárvore), em cada momento. Após a árvore ser construída, extraia e apresente as regras correspondentes às árvores de decisão construídas\n",
        "(com ID3 e C4.5). Ao final, faça uma discussão comparativa, considerando critérios técnicos de sua livre escolha, entre os resultados obtidos pelos 3 classificadores.**\n",
        "\n",
        "Escolha uma biblioteca/pacote de AM de sua preferência (Scikit Learn, Weka,\n",
        "R, . . . ) e rode os 3 algoritmos (entregando as soluções obtidas na implementação), verificando se os resultados das regras coincidem com os produzidos manualmente."
      ]
    },
    {
      "cell_type": "markdown",
      "metadata": {
        "id": "O02zIXBI8Moq",
        "colab_type": "text"
      },
      "source": [
        "**6) )Mostre, com a ajuda de um conjunto de dados, 3 limitações (por exemplo:\n",
        "Lidar com algum tipo de overfitting, . . . ) presentes no algoritmo ID3, explicando-as e demonstrando como tais limitações podem ser resolvidas com o algoritmo C4.5. No mais, comprove suas respostas, demonstrando-as na prática com a execução do conjunto de treinamento em uma biblioteca/pacote de AM de sua preferência (Scikit Learn, Weka, R, . . . ), entregando a solução implementada**"
      ]
    },
    {
      "cell_type": "code",
      "metadata": {
        "id": "HYPJ62Fr8wfS",
        "colab_type": "code",
        "colab": {}
      },
      "source": [
        ""
      ],
      "execution_count": null,
      "outputs": []
    },
    {
      "cell_type": "markdown",
      "metadata": {
        "id": "iVv42uFU8vbM",
        "colab_type": "text"
      },
      "source": [
        "**7) Julgue, com argumentos técnicos e com demonstração experimental, as seguintes afirmações quanto às suas possíveis veracidades:**"
      ]
    },
    {
      "cell_type": "markdown",
      "metadata": {
        "id": "U-YLzRyt9FZl",
        "colab_type": "text"
      },
      "source": [
        "Na justificativa, utilize um conjunto de dados como exemplo."
      ]
    },
    {
      "cell_type": "markdown",
      "metadata": {
        "id": "vjYfP_3O81v7",
        "colab_type": "text"
      },
      "source": [
        "A) Os algoritmos de indução de árvores de decisão são robustos quanto à presença\n",
        "de ruído, num contexto de overfitting."
      ]
    },
    {
      "cell_type": "markdown",
      "metadata": {
        "id": "8j2Bj1mv8-XL",
        "colab_type": "text"
      },
      "source": [
        "B) A presença de atributos redundantes (atributo fortemente relacionado a outro)\n",
        "em um conjunto de dados para treinamento não afeta adversamente a precisão do modelo construído com indução de ADs."
      ]
    },
    {
      "cell_type": "markdown",
      "metadata": {
        "id": "35oVQHo69JBo",
        "colab_type": "text"
      },
      "source": [
        "**8) Escolher uma base de dados do repositório UCI e implemente uma solução de comitê bagging, com no mínimo de 3 classificadores. Neste sentido, realize as seguintes atividades: (i) Justifique a escolha da base de dados; (ii) Avalie o desempenho da versão single de cada classificador, para a base de dados escolhida, utilizando uma das métricas já apresentadas no curso; (iii) Avalie o desempenho da versão bagging para cada classificador, para a base de dados escolhida, utilizando uma das métricas já apresentadas no curso; (iv) Faça análise crítica e comparativa entre a versão single e bagging dos classificadores utilizados. Obs.: Para implementação, utilize a linguagem de programação de sua preferência.**"
      ]
    },
    {
      "cell_type": "code",
      "metadata": {
        "id": "_4FqB4yH9Qr3",
        "colab_type": "code",
        "colab": {}
      },
      "source": [
        ""
      ],
      "execution_count": null,
      "outputs": []
    }
  ]
}